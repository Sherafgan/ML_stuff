{
 "cells": [
  {
   "cell_type": "markdown",
   "metadata": {},
   "source": [
    "# Loading data and selecting features"
   ]
  },
  {
   "cell_type": "code",
   "execution_count": 34,
   "metadata": {
    "collapsed": true
   },
   "outputs": [],
   "source": [
    "%matplotlib inline"
   ]
  },
  {
   "cell_type": "code",
   "execution_count": 35,
   "metadata": {
    "collapsed": true
   },
   "outputs": [],
   "source": [
    "import pandas as pd\n",
    "import numpy as np\n",
    "import scipy as sp\n",
    "import matplotlib.pyplot as plt\n",
    "from matplotlib import style\n",
    "style.use('ggplot')"
   ]
  },
  {
   "cell_type": "code",
   "execution_count": 36,
   "metadata": {
    "collapsed": false
   },
   "outputs": [
    {
     "name": "stdout",
     "output_type": "stream",
     "text": [
      "(1460, 80) (1459, 80) (2919, 80)\n"
     ]
    },
    {
     "data": {
      "text/html": [
       "<div>\n",
       "<table border=\"1\" class=\"dataframe\">\n",
       "  <thead>\n",
       "    <tr style=\"text-align: right;\">\n",
       "      <th></th>\n",
       "      <th>Id</th>\n",
       "      <th>MSSubClass</th>\n",
       "      <th>MSZoning</th>\n",
       "      <th>LotFrontage</th>\n",
       "      <th>LotArea</th>\n",
       "      <th>Street</th>\n",
       "      <th>Alley</th>\n",
       "      <th>LotShape</th>\n",
       "      <th>LandContour</th>\n",
       "      <th>Utilities</th>\n",
       "      <th>...</th>\n",
       "      <th>ScreenPorch</th>\n",
       "      <th>PoolArea</th>\n",
       "      <th>PoolQC</th>\n",
       "      <th>Fence</th>\n",
       "      <th>MiscFeature</th>\n",
       "      <th>MiscVal</th>\n",
       "      <th>MoSold</th>\n",
       "      <th>YrSold</th>\n",
       "      <th>SaleType</th>\n",
       "      <th>SaleCondition</th>\n",
       "    </tr>\n",
       "  </thead>\n",
       "  <tbody>\n",
       "    <tr>\n",
       "      <th>0</th>\n",
       "      <td>1</td>\n",
       "      <td>60</td>\n",
       "      <td>RL</td>\n",
       "      <td>65.0</td>\n",
       "      <td>8450</td>\n",
       "      <td>Pave</td>\n",
       "      <td>NaN</td>\n",
       "      <td>Reg</td>\n",
       "      <td>Lvl</td>\n",
       "      <td>AllPub</td>\n",
       "      <td>...</td>\n",
       "      <td>0</td>\n",
       "      <td>0</td>\n",
       "      <td>NaN</td>\n",
       "      <td>NaN</td>\n",
       "      <td>NaN</td>\n",
       "      <td>0</td>\n",
       "      <td>2</td>\n",
       "      <td>2008</td>\n",
       "      <td>WD</td>\n",
       "      <td>Normal</td>\n",
       "    </tr>\n",
       "    <tr>\n",
       "      <th>1</th>\n",
       "      <td>2</td>\n",
       "      <td>20</td>\n",
       "      <td>RL</td>\n",
       "      <td>80.0</td>\n",
       "      <td>9600</td>\n",
       "      <td>Pave</td>\n",
       "      <td>NaN</td>\n",
       "      <td>Reg</td>\n",
       "      <td>Lvl</td>\n",
       "      <td>AllPub</td>\n",
       "      <td>...</td>\n",
       "      <td>0</td>\n",
       "      <td>0</td>\n",
       "      <td>NaN</td>\n",
       "      <td>NaN</td>\n",
       "      <td>NaN</td>\n",
       "      <td>0</td>\n",
       "      <td>5</td>\n",
       "      <td>2007</td>\n",
       "      <td>WD</td>\n",
       "      <td>Normal</td>\n",
       "    </tr>\n",
       "    <tr>\n",
       "      <th>2</th>\n",
       "      <td>3</td>\n",
       "      <td>60</td>\n",
       "      <td>RL</td>\n",
       "      <td>68.0</td>\n",
       "      <td>11250</td>\n",
       "      <td>Pave</td>\n",
       "      <td>NaN</td>\n",
       "      <td>IR1</td>\n",
       "      <td>Lvl</td>\n",
       "      <td>AllPub</td>\n",
       "      <td>...</td>\n",
       "      <td>0</td>\n",
       "      <td>0</td>\n",
       "      <td>NaN</td>\n",
       "      <td>NaN</td>\n",
       "      <td>NaN</td>\n",
       "      <td>0</td>\n",
       "      <td>9</td>\n",
       "      <td>2008</td>\n",
       "      <td>WD</td>\n",
       "      <td>Normal</td>\n",
       "    </tr>\n",
       "    <tr>\n",
       "      <th>3</th>\n",
       "      <td>4</td>\n",
       "      <td>70</td>\n",
       "      <td>RL</td>\n",
       "      <td>60.0</td>\n",
       "      <td>9550</td>\n",
       "      <td>Pave</td>\n",
       "      <td>NaN</td>\n",
       "      <td>IR1</td>\n",
       "      <td>Lvl</td>\n",
       "      <td>AllPub</td>\n",
       "      <td>...</td>\n",
       "      <td>0</td>\n",
       "      <td>0</td>\n",
       "      <td>NaN</td>\n",
       "      <td>NaN</td>\n",
       "      <td>NaN</td>\n",
       "      <td>0</td>\n",
       "      <td>2</td>\n",
       "      <td>2006</td>\n",
       "      <td>WD</td>\n",
       "      <td>Abnorml</td>\n",
       "    </tr>\n",
       "    <tr>\n",
       "      <th>4</th>\n",
       "      <td>5</td>\n",
       "      <td>60</td>\n",
       "      <td>RL</td>\n",
       "      <td>84.0</td>\n",
       "      <td>14260</td>\n",
       "      <td>Pave</td>\n",
       "      <td>NaN</td>\n",
       "      <td>IR1</td>\n",
       "      <td>Lvl</td>\n",
       "      <td>AllPub</td>\n",
       "      <td>...</td>\n",
       "      <td>0</td>\n",
       "      <td>0</td>\n",
       "      <td>NaN</td>\n",
       "      <td>NaN</td>\n",
       "      <td>NaN</td>\n",
       "      <td>0</td>\n",
       "      <td>12</td>\n",
       "      <td>2008</td>\n",
       "      <td>WD</td>\n",
       "      <td>Normal</td>\n",
       "    </tr>\n",
       "  </tbody>\n",
       "</table>\n",
       "<p>5 rows × 80 columns</p>\n",
       "</div>"
      ],
      "text/plain": [
       "   Id  MSSubClass MSZoning  LotFrontage  LotArea Street Alley LotShape  \\\n",
       "0   1          60       RL         65.0     8450   Pave   NaN      Reg   \n",
       "1   2          20       RL         80.0     9600   Pave   NaN      Reg   \n",
       "2   3          60       RL         68.0    11250   Pave   NaN      IR1   \n",
       "3   4          70       RL         60.0     9550   Pave   NaN      IR1   \n",
       "4   5          60       RL         84.0    14260   Pave   NaN      IR1   \n",
       "\n",
       "  LandContour Utilities      ...       ScreenPorch PoolArea PoolQC Fence  \\\n",
       "0         Lvl    AllPub      ...                 0        0    NaN   NaN   \n",
       "1         Lvl    AllPub      ...                 0        0    NaN   NaN   \n",
       "2         Lvl    AllPub      ...                 0        0    NaN   NaN   \n",
       "3         Lvl    AllPub      ...                 0        0    NaN   NaN   \n",
       "4         Lvl    AllPub      ...                 0        0    NaN   NaN   \n",
       "\n",
       "  MiscFeature MiscVal MoSold  YrSold  SaleType  SaleCondition  \n",
       "0         NaN       0      2    2008        WD         Normal  \n",
       "1         NaN       0      5    2007        WD         Normal  \n",
       "2         NaN       0      9    2008        WD         Normal  \n",
       "3         NaN       0      2    2006        WD        Abnorml  \n",
       "4         NaN       0     12    2008        WD         Normal  \n",
       "\n",
       "[5 rows x 80 columns]"
      ]
     },
     "execution_count": 36,
     "metadata": {},
     "output_type": "execute_result"
    }
   ],
   "source": [
    "trainData = pd.read_csv('train.csv')\n",
    "y = np.array(trainData['SalePrice'])\n",
    "trainData.drop(['SalePrice'], axis=1, inplace=True)\n",
    "testData = pd.read_csv('test.csv')\n",
    "data = pd.concat([trainData, testData])\n",
    "print(trainData.shape, testData.shape, data.shape)\n",
    "data.head()"
   ]
  },
  {
   "cell_type": "markdown",
   "metadata": {},
   "source": [
    "### Selecting features according to data exploration of https://goo.gl/sZSE2e"
   ]
  },
  {
   "cell_type": "code",
   "execution_count": 37,
   "metadata": {
    "collapsed": false,
    "scrolled": false
   },
   "outputs": [
    {
     "name": "stdout",
     "output_type": "stream",
     "text": [
      "(2919, 34)\n"
     ]
    },
    {
     "data": {
      "text/html": [
       "<div>\n",
       "<table border=\"1\" class=\"dataframe\">\n",
       "  <thead>\n",
       "    <tr style=\"text-align: right;\">\n",
       "      <th></th>\n",
       "      <th>OverallQual</th>\n",
       "      <th>GrLivArea</th>\n",
       "      <th>GarageCars</th>\n",
       "      <th>GarageArea</th>\n",
       "      <th>TotalBsmtSF</th>\n",
       "      <th>1stFlrSF</th>\n",
       "      <th>FullBath</th>\n",
       "      <th>TotRmsAbvGrd</th>\n",
       "      <th>YearBuilt</th>\n",
       "      <th>YearRemodAdd</th>\n",
       "      <th>...</th>\n",
       "      <th>PoolArea</th>\n",
       "      <th>3SsnPorch</th>\n",
       "      <th>MoSold</th>\n",
       "      <th>YrSold</th>\n",
       "      <th>BsmtCond</th>\n",
       "      <th>BsmtQual</th>\n",
       "      <th>FireplaceQu</th>\n",
       "      <th>HeatingQC</th>\n",
       "      <th>CentralAir</th>\n",
       "      <th>KitchenQual</th>\n",
       "    </tr>\n",
       "  </thead>\n",
       "  <tbody>\n",
       "    <tr>\n",
       "      <th>0</th>\n",
       "      <td>7</td>\n",
       "      <td>1710</td>\n",
       "      <td>2.0</td>\n",
       "      <td>548.0</td>\n",
       "      <td>856.0</td>\n",
       "      <td>856</td>\n",
       "      <td>2</td>\n",
       "      <td>8</td>\n",
       "      <td>2003</td>\n",
       "      <td>2003</td>\n",
       "      <td>...</td>\n",
       "      <td>0</td>\n",
       "      <td>0</td>\n",
       "      <td>2</td>\n",
       "      <td>2008</td>\n",
       "      <td>TA</td>\n",
       "      <td>Gd</td>\n",
       "      <td>NaN</td>\n",
       "      <td>Ex</td>\n",
       "      <td>Y</td>\n",
       "      <td>Gd</td>\n",
       "    </tr>\n",
       "    <tr>\n",
       "      <th>1</th>\n",
       "      <td>6</td>\n",
       "      <td>1262</td>\n",
       "      <td>2.0</td>\n",
       "      <td>460.0</td>\n",
       "      <td>1262.0</td>\n",
       "      <td>1262</td>\n",
       "      <td>2</td>\n",
       "      <td>6</td>\n",
       "      <td>1976</td>\n",
       "      <td>1976</td>\n",
       "      <td>...</td>\n",
       "      <td>0</td>\n",
       "      <td>0</td>\n",
       "      <td>5</td>\n",
       "      <td>2007</td>\n",
       "      <td>TA</td>\n",
       "      <td>Gd</td>\n",
       "      <td>TA</td>\n",
       "      <td>Ex</td>\n",
       "      <td>Y</td>\n",
       "      <td>TA</td>\n",
       "    </tr>\n",
       "    <tr>\n",
       "      <th>2</th>\n",
       "      <td>7</td>\n",
       "      <td>1786</td>\n",
       "      <td>2.0</td>\n",
       "      <td>608.0</td>\n",
       "      <td>920.0</td>\n",
       "      <td>920</td>\n",
       "      <td>2</td>\n",
       "      <td>6</td>\n",
       "      <td>2001</td>\n",
       "      <td>2002</td>\n",
       "      <td>...</td>\n",
       "      <td>0</td>\n",
       "      <td>0</td>\n",
       "      <td>9</td>\n",
       "      <td>2008</td>\n",
       "      <td>TA</td>\n",
       "      <td>Gd</td>\n",
       "      <td>TA</td>\n",
       "      <td>Ex</td>\n",
       "      <td>Y</td>\n",
       "      <td>Gd</td>\n",
       "    </tr>\n",
       "    <tr>\n",
       "      <th>3</th>\n",
       "      <td>7</td>\n",
       "      <td>1717</td>\n",
       "      <td>3.0</td>\n",
       "      <td>642.0</td>\n",
       "      <td>756.0</td>\n",
       "      <td>961</td>\n",
       "      <td>1</td>\n",
       "      <td>7</td>\n",
       "      <td>1915</td>\n",
       "      <td>1970</td>\n",
       "      <td>...</td>\n",
       "      <td>0</td>\n",
       "      <td>0</td>\n",
       "      <td>2</td>\n",
       "      <td>2006</td>\n",
       "      <td>Gd</td>\n",
       "      <td>TA</td>\n",
       "      <td>Gd</td>\n",
       "      <td>Gd</td>\n",
       "      <td>Y</td>\n",
       "      <td>Gd</td>\n",
       "    </tr>\n",
       "    <tr>\n",
       "      <th>4</th>\n",
       "      <td>8</td>\n",
       "      <td>2198</td>\n",
       "      <td>3.0</td>\n",
       "      <td>836.0</td>\n",
       "      <td>1145.0</td>\n",
       "      <td>1145</td>\n",
       "      <td>2</td>\n",
       "      <td>9</td>\n",
       "      <td>2000</td>\n",
       "      <td>2000</td>\n",
       "      <td>...</td>\n",
       "      <td>0</td>\n",
       "      <td>0</td>\n",
       "      <td>12</td>\n",
       "      <td>2008</td>\n",
       "      <td>TA</td>\n",
       "      <td>Gd</td>\n",
       "      <td>TA</td>\n",
       "      <td>Ex</td>\n",
       "      <td>Y</td>\n",
       "      <td>Gd</td>\n",
       "    </tr>\n",
       "  </tbody>\n",
       "</table>\n",
       "<p>5 rows × 34 columns</p>\n",
       "</div>"
      ],
      "text/plain": [
       "   OverallQual  GrLivArea  GarageCars  GarageArea  TotalBsmtSF  1stFlrSF  \\\n",
       "0            7       1710         2.0       548.0        856.0       856   \n",
       "1            6       1262         2.0       460.0       1262.0      1262   \n",
       "2            7       1786         2.0       608.0        920.0       920   \n",
       "3            7       1717         3.0       642.0        756.0       961   \n",
       "4            8       2198         3.0       836.0       1145.0      1145   \n",
       "\n",
       "   FullBath  TotRmsAbvGrd  YearBuilt  YearRemodAdd     ...       PoolArea  \\\n",
       "0         2             8       2003          2003     ...              0   \n",
       "1         2             6       1976          1976     ...              0   \n",
       "2         2             6       2001          2002     ...              0   \n",
       "3         1             7       1915          1970     ...              0   \n",
       "4         2             9       2000          2000     ...              0   \n",
       "\n",
       "   3SsnPorch  MoSold  YrSold  BsmtCond  BsmtQual  FireplaceQu  HeatingQC  \\\n",
       "0          0       2    2008        TA        Gd          NaN         Ex   \n",
       "1          0       5    2007        TA        Gd           TA         Ex   \n",
       "2          0       9    2008        TA        Gd           TA         Ex   \n",
       "3          0       2    2006        Gd        TA           Gd         Gd   \n",
       "4          0      12    2008        TA        Gd           TA         Ex   \n",
       "\n",
       "   CentralAir  KitchenQual  \n",
       "0           Y           Gd  \n",
       "1           Y           TA  \n",
       "2           Y           Gd  \n",
       "3           Y           Gd  \n",
       "4           Y           Gd  \n",
       "\n",
       "[5 rows x 34 columns]"
      ]
     },
     "execution_count": 37,
     "metadata": {},
     "output_type": "execute_result"
    }
   ],
   "source": [
    "dfWithSelectedFeatures = data[['OverallQual', 'GrLivArea', 'GarageCars', 'GarageArea', 'TotalBsmtSF', '1stFlrSF',\n",
    "                               'FullBath', 'TotRmsAbvGrd', 'YearBuilt', 'YearRemodAdd', 'GarageYrBlt', 'MasVnrArea',\n",
    "                               'Fireplaces', 'BsmtFinSF1','LotFrontage', 'WoodDeckSF', '2ndFlrSF', 'OpenPorchSF',\n",
    "                               'HalfBath', 'LotArea', 'BsmtFullBath', 'BsmtUnfSF', 'BedroomAbvGr', 'ScreenPorch',\n",
    "                               'PoolArea', '3SsnPorch', 'MoSold', 'YrSold', 'BsmtCond', 'BsmtQual', 'FireplaceQu',\n",
    "                               'HeatingQC', 'CentralAir', 'KitchenQual']]\n",
    "print(dfWithSelectedFeatures.shape)\n",
    "dfWithSelectedFeatures.head()"
   ]
  },
  {
   "cell_type": "markdown",
   "metadata": {},
   "source": [
    "# Filling missing values"
   ]
  },
  {
   "cell_type": "markdown",
   "metadata": {},
   "source": [
    "#### Filling NaN values of categorical features with alternative option. NaN values in here are actually just another category."
   ]
  },
  {
   "cell_type": "code",
   "execution_count": 25,
   "metadata": {
    "collapsed": false
   },
   "outputs": [],
   "source": [
    "# x = dfWithSelectedFeatures.loc[np.logical_not(dfWithSelectedFeatures[\"LotFrontage\"].isnull()), \"LotArea\"]\n",
    "# y = dfWithSelectedFeatures.loc[np.logical_not(dfWithSelectedFeatures[\"LotFrontage\"].isnull()), \"LotFrontage\"]\n",
    "# plt.scatter(x, y)\n",
    "# plt.show()"
   ]
  },
  {
   "cell_type": "code",
   "execution_count": 16,
   "metadata": {
    "collapsed": true
   },
   "outputs": [],
   "source": [
    "pd.options.mode.chained_assignment = None"
   ]
  },
  {
   "cell_type": "code",
   "execution_count": 18,
   "metadata": {
    "collapsed": false,
    "scrolled": true
   },
   "outputs": [
    {
     "name": "stdout",
     "output_type": "stream",
     "text": [
      "BsmtCond 'NaN's before & after =  82 0\n",
      "BsmtQual 'NaN's before & after =  81 0\n",
      "FireplaceQu 'NaN's  before & after =  1420 0\n"
     ]
    }
   ],
   "source": [
    "bsmtCondNaNs = dfWithSelectedFeatures.BsmtCond.isnull().sum().sum()\n",
    "bstmQualNaNs = dfWithSelectedFeatures.BsmtQual.isnull().sum().sum()\n",
    "fireplaceQuNaNs = dfWithSelectedFeatures.FireplaceQu.isnull().sum().sum()\n",
    "\n",
    "# dfWithSelectedFeatures['BsmtCond'].fillna(value='NoB', inplace=True)\n",
    "# dfWithSelectedFeatures['BsmtQual'].fillna(value='NoB', inplace=True)\n",
    "# dfWithSelectedFeatures['FireplaceQu'].fillna(value='NoF', inplace=True)\n",
    "\n",
    "dfWithSelectedFeatures.loc[dfWithSelectedFeatures.BsmtCond.isnull(), 'BsmtCond'] = 'NoB'\n",
    "dfWithSelectedFeatures.loc[dfWithSelectedFeatures.BsmtQual.isnull(), 'BsmtQual'] = 'NoB'\n",
    "dfWithSelectedFeatures.loc[dfWithSelectedFeatures.FireplaceQu.isnull(), 'FireplaceQu'] = 'NoF'\n",
    "\n",
    "print('BsmtCond \\'NaN\\'s before & after = ', bsmtCondNaNs, dfWithSelectedFeatures.BsmtCond.isnull().sum().sum())\n",
    "print('BsmtQual \\'NaN\\'s before & after = ', bstmQualNaNs, dfWithSelectedFeatures.BsmtQual.isnull().sum().sum())\n",
    "print('FireplaceQu \\'NaN\\'s  before & after = ', fireplaceQuNaNs, dfWithSelectedFeatures.FireplaceQu.isnull().sum().sum())\n",
    "pd.options.mode.chained_assignment = None"
   ]
  },
  {
   "cell_type": "markdown",
   "metadata": {},
   "source": [
    "#### Checking for real NaN's in numerical columns"
   ]
  },
  {
   "cell_type": "code",
   "execution_count": 19,
   "metadata": {
    "collapsed": false,
    "scrolled": true
   },
   "outputs": [
    {
     "name": "stdout",
     "output_type": "stream",
     "text": [
      "OverallQual NaN's:  0\n",
      "GrLivArea NaN's:  0\n",
      "GarageCars NaN's:  1\n",
      "GarageArea NaN's:  1\n",
      "TotalBsmtSF NaN's:  1\n",
      "1stFlrSF NaN's:  0\n",
      "FullBath NaN's:  0\n",
      "TotRmsAbvGrd NaN's:  0\n",
      "YearBuilt NaN's:  0\n",
      "YearRemodAdd NaN's:  0\n",
      "GarageYrBlt NaN's:  159\n",
      "MasVnrArea NaN's:  23\n",
      "Fireplaces NaN's:  0\n",
      "BsmtFinSF1 NaN's:  1\n",
      "LotFrontage NaN's:  486\n",
      "WoodDeckSF NaN's:  0\n",
      "2ndFlrSF NaN's:  0\n",
      "OpenPorchSF NaN's:  0\n",
      "HalfBath NaN's:  0\n",
      "LotArea NaN's:  0\n",
      "BsmtFullBath NaN's:  2\n",
      "BsmtUnfSF NaN's:  1\n",
      "BedroomAbvGr NaN's:  0\n",
      "ScreenPorch NaN's:  0\n",
      "PoolArea NaN's:  0\n",
      "3SsnPorch NaN's:  0\n",
      "MoSold NaN's:  0\n",
      "YrSold NaN's:  0\n",
      "BsmtCond NaN's:  0\n",
      "BsmtQual NaN's:  0\n",
      "FireplaceQu NaN's:  0\n",
      "HeatingQC NaN's:  0\n",
      "CentralAir NaN's:  0\n",
      "KitchenQual NaN's:  1\n",
      "Total:  676\n"
     ]
    }
   ],
   "source": [
    "for clmn in dfWithSelectedFeatures.columns:\n",
    "    print(clmn + ' NaN\\'s: ', dfWithSelectedFeatures[clmn].isnull().sum().sum())\n",
    "\n",
    "print('Total: ', dfWithSelectedFeatures.isnull().sum().sum())"
   ]
  },
  {
   "cell_type": "markdown",
   "metadata": {},
   "source": [
    "#### Fitting 'LotFrontage' NaN's with values causing minimum least square error"
   ]
  },
  {
   "cell_type": "code",
   "execution_count": 22,
   "metadata": {
    "collapsed": false,
    "scrolled": true
   },
   "outputs": [
    {
     "data": {
      "image/png": "[encoded data removed]",
      "text/plain": [
       "<matplotlib.figure.Figure at 0x7f317603bba8>"
      ]
     },
     "metadata": {},
     "output_type": "display_data"
    }
   ],
   "source": [
    "x = dfWithSelectedFeatures.loc[np.logical_not(dfWithSelectedFeatures[\"LotFrontage\"].isnull()), \"LotArea\"]\n",
    "y = dfWithSelectedFeatures.loc[np.logical_not(dfWithSelectedFeatures[\"LotFrontage\"].isnull()), \"LotFrontage\"]\n",
    "plt.scatter(x, y)\n",
    "plt.show()"
   ]
  },
  {
   "cell_type": "code",
   "execution_count": 27,
   "metadata": {
    "collapsed": false
   },
   "outputs": [],
   "source": [
    "t = (x <= 25000) & (y <= 150)\n",
    "p = np.polyfit(x[t], y[t], 1)\n",
    "dfWithSelectedFeatures.loc[dfWithSelectedFeatures['LotFrontage'].isnull(), 'LotFrontage'] = np.polyval(p, \n",
    "                        dfWithSelectedFeatures.loc[dfWithSelectedFeatures['LotFrontage'].isnull(), 'LotArea'])"
   ]
  },
  {
   "cell_type": "markdown",
   "metadata": {},
   "source": [
    "#### Filling missing numerical values with their means"
   ]
  },
  {
   "cell_type": "code",
   "execution_count": 28,
   "metadata": {
    "collapsed": false
   },
   "outputs": [],
   "source": [
    "from sklearn.preprocessing import Imputer\n",
    "\n",
    "toImpute = ['GarageYrBlt', 'MasVnrArea']\n",
    "\n",
    "imp = Imputer(missing_values = 'NaN', strategy='mean', axis=0)\n",
    "tmp = imp.fit_transform(dfWithSelectedFeatures[toImpute])\n",
    "\n",
    "i = 0\n",
    "for clmn in toImpute:\n",
    "    dfWithSelectedFeatures[clmn] = tmp[:, i]\n",
    "    i+=1"
   ]
  },
  {
   "cell_type": "markdown",
   "metadata": {},
   "source": [
    "#### Filling some missing values by hand and checking. Reason: the values actually not missing, but for one cell there're somehow 2 values."
   ]
  },
  {
   "cell_type": "code",
   "execution_count": 29,
   "metadata": {
    "collapsed": false
   },
   "outputs": [
    {
     "name": "stdout",
     "output_type": "stream",
     "text": [
      "Missing values:  0\n",
      "Shape:  (2919, 34)\n"
     ]
    }
   ],
   "source": [
    "dfWithSelectedFeatures.set_value(1116, 'GarageCars', 2.0)\n",
    "dfWithSelectedFeatures.set_value(1116, 'GarageArea', 527.0)\n",
    "dfWithSelectedFeatures.set_value(660, 'TotalBsmtSF', 793.0)\n",
    "dfWithSelectedFeatures.set_value(660, 'BsmtFinSF1', 0.0)\n",
    "dfWithSelectedFeatures.set_value(660, 'BsmtFullBath', 0.0)\n",
    "dfWithSelectedFeatures.set_value(728, 'BsmtFullBath', 0.0)\n",
    "dfWithSelectedFeatures.set_value(660, 'BsmtUnfSF', 1.0)\n",
    "dfWithSelectedFeatures.set_value(95, 'KitchenQual', 'TA')\n",
    "\n",
    "print('Missing values: ', dfWithSelectedFeatures.isnull().sum().sum())\n",
    "print('Shape: ', dfWithSelectedFeatures.shape)"
   ]
  },
  {
   "cell_type": "markdown",
   "metadata": {},
   "source": [
    "# Encoding the categorical features"
   ]
  },
  {
   "cell_type": "markdown",
   "metadata": {},
   "source": [
    "#### Taking numerical features"
   ]
  },
  {
   "cell_type": "code",
   "execution_count": 30,
   "metadata": {
    "collapsed": false
   },
   "outputs": [],
   "source": [
    "numericalClmns= []\n",
    "for clmn in dfWithSelectedFeatures.columns:\n",
    "    if dfWithSelectedFeatures[clmn].dtype == np.int64 or dfWithSelectedFeatures[clmn].dtype == np.float64:\n",
    "        numericalClmns.append(clmn)\n",
    "\n",
    "len(numericalClmns)\n",
    "numericalFeatures = dfWithSelectedFeatures[numericalClmns]"
   ]
  },
  {
   "cell_type": "code",
   "execution_count": 31,
   "metadata": {
    "collapsed": false,
    "scrolled": true
   },
   "outputs": [
    {
     "name": "stdout",
     "output_type": "stream",
     "text": [
      "(2919, 27)\n",
      "(2919, 28)\n"
     ]
    }
   ],
   "source": [
    "from sklearn import preprocessing\n",
    "\n",
    "le = preprocessing.LabelEncoder()\n",
    "toEnc = ['BsmtCond', 'BsmtQual', 'FireplaceQu', 'HeatingQC', 'CentralAir', 'KitchenQual']\n",
    "\n",
    "for clmn in toEnc:\n",
    "    le.fit(dfWithSelectedFeatures[clmn])\n",
    "    tmp = le.transform(dfWithSelectedFeatures[clmn])\n",
    "    dfWithSelectedFeatures[clmn] = tmp\n",
    "\n",
    "enc = preprocessing.OneHotEncoder(sparse=False)\n",
    "encCategoricalFeatures = enc.fit_transform(dfWithSelectedFeatures[toEnc])\n",
    "print(encCategoricalFeatures.shape)\n",
    "print(numericalFeatures.shape)"
   ]
  },
  {
   "cell_type": "markdown",
   "metadata": {},
   "source": [
    "# Preparing data for estimators and checking"
   ]
  },
  {
   "cell_type": "code",
   "execution_count": 32,
   "metadata": {
    "collapsed": false
   },
   "outputs": [
    {
     "name": "stdout",
     "output_type": "stream",
     "text": [
      "(1460, 55) (2433,) (1459, 55)\n"
     ]
    }
   ],
   "source": [
    "X_trainAndTest = np.hstack((np.array(numericalFeatures), np.array(encCategoricalFeatures)))\n",
    "X, X_test = np.array_split(X_trainAndTest, 2)\n",
    "print(X.shape, y.shape, X_test.shape)"
   ]
  },
  {
   "cell_type": "markdown",
   "metadata": {},
   "source": [
    "# Training and Evaluation"
   ]
  },
  {
   "cell_type": "code",
   "execution_count": 33,
   "metadata": {
    "collapsed": true
   },
   "outputs": [],
   "source": [
    "from sklearn.metrics import make_scorer, mean_squared_error\n",
    "\n",
    "def rmse(y_true, y_pred):\n",
    "    return np.sqrt(mean_squared_error(y_true, y_pred))\n",
    "\n",
    "rmse_scorer = make_scorer(rmse, greater_is_better=False)"
   ]
  },
  {
   "cell_type": "code",
   "execution_count": 14,
   "metadata": {
    "collapsed": false
   },
   "outputs": [
    {
     "name": "stderr",
     "output_type": "stream",
     "text": [
      "/home/sherafgan/anaconda3/lib/python3.5/site-packages/sklearn/cross_validation.py:44: DeprecationWarning: This module was deprecated in version 0.18 in favor of the model_selection module into which all the refactored classes and functions are moved. Also note that the interface of the new CV iterators are different from that of this module. This module will be removed in 0.20.\n",
      "  \"This module will be removed in 0.20.\", DeprecationWarning)\n",
      "/home/sherafgan/anaconda3/lib/python3.5/site-packages/sklearn/grid_search.py:43: DeprecationWarning: This module was deprecated in version 0.18 in favor of the model_selection module into which all the refactored classes and functions are moved. This module will be removed in 0.20.\n",
      "  DeprecationWarning)\n"
     ]
    }
   ],
   "source": [
    "from sklearn.grid_search import GridSearchCV\n",
    "from sklearn.linear_model import Lasso\n",
    "\n",
    "model = Lasso(max_iter=50000)\n",
    "alphas = [1e-4, 5e-4, 1e-3, 5e-3]\n",
    "param_grid = dict(alpha=alphas)\n",
    "\n",
    "grid = GridSearchCV(model, param_grid, cv=15, scoring=rmse_scorer)\n",
    "grid.fit(X, y)"
   ]
  },
  {
   "cell_type": "code",
   "execution_count": 16,
   "metadata": {
    "collapsed": false
   },
   "outputs": [
    {
     "ename": "NameError",
     "evalue": "name 'grid' is not defined",
     "output_type": "error",
     "traceback": [
      "\u001b[0;31m---------------------------------------------------------------------------\u001b[0m",
      "\u001b[0;31mNameError\u001b[0m                                 Traceback (most recent call last)",
      "\u001b[0;32m<ipython-input-16-75e6a8653c5d>\u001b[0m in \u001b[0;36m<module>\u001b[0;34m()\u001b[0m\n\u001b[0;32m----> 1\u001b[0;31m \u001b[0mprint\u001b[0m\u001b[0;34m(\u001b[0m\u001b[0mgrid\u001b[0m\u001b[0;34m.\u001b[0m\u001b[0mgrid_scores_\u001b[0m\u001b[0;34m[\u001b[0m\u001b[0;36m0\u001b[0m\u001b[0;34m]\u001b[0m\u001b[0;34m.\u001b[0m\u001b[0mparameters\u001b[0m\u001b[0;34m)\u001b[0m\u001b[0;34m\u001b[0m\u001b[0m\n\u001b[0m\u001b[1;32m      2\u001b[0m \u001b[0mprint\u001b[0m\u001b[0;34m(\u001b[0m\u001b[0mgrid\u001b[0m\u001b[0;34m.\u001b[0m\u001b[0mgrid_scores_\u001b[0m\u001b[0;34m[\u001b[0m\u001b[0;36m0\u001b[0m\u001b[0;34m]\u001b[0m\u001b[0;34m.\u001b[0m\u001b[0mcv_validation_scores\u001b[0m\u001b[0;34m)\u001b[0m\u001b[0;34m\u001b[0m\u001b[0m\n\u001b[1;32m      3\u001b[0m \u001b[0mprint\u001b[0m\u001b[0;34m(\u001b[0m\u001b[0mgrid\u001b[0m\u001b[0;34m.\u001b[0m\u001b[0mgrid_scores_\u001b[0m\u001b[0;34m[\u001b[0m\u001b[0;36m0\u001b[0m\u001b[0;34m]\u001b[0m\u001b[0;34m.\u001b[0m\u001b[0mmean_validation_score\u001b[0m\u001b[0;34m)\u001b[0m\u001b[0;34m\u001b[0m\u001b[0m\n",
      "\u001b[0;31mNameError\u001b[0m: name 'grid' is not defined"
     ]
    }
   ],
   "source": [
    "print(grid.best_scores_)\n",
    "print(grid.grid_scores_[0].cv_validation_scores)\n",
    "print(grid.grid_scores_[0].mean_validation_score)"
   ]
  }
 ],
 "metadata": {
  "anaconda-cloud": {},
  "kernelspec": {
   "display_name": "Python [default]",
   "language": "python",
   "name": "python3"
  },
  "language_info": {
   "codemirror_mode": {
    "name": "ipython",
    "version": 3
   },
   "file_extension": ".py",
   "mimetype": "text/x-python",
   "name": "python",
   "nbconvert_exporter": "python",
   "pygments_lexer": "ipython3",
   "version": "3.5.2"
  }
 },
 "nbformat": 4,
 "nbformat_minor": 1
}
