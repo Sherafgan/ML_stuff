{
 "cells": [
  {
   "cell_type": "code",
   "execution_count": 64,
   "metadata": {
    "collapsed": true
   },
   "outputs": [],
   "source": [
    "import pandas as pd\n",
    "import numpy as np\n",
    "import matplotlib.pyplot as plt\n",
    "from sklearn.linear_model import Lasso\n",
    "%matplotlib inline"
   ]
  },
  {
   "cell_type": "code",
   "execution_count": 65,
   "metadata": {
    "collapsed": false
   },
   "outputs": [],
   "source": [
    "train = pd.read_csv(\"train.csv\")\n",
    "test = pd.read_csv(\"test.csv\")"
   ]
  },
  {
   "cell_type": "code",
   "execution_count": 67,
   "metadata": {
    "collapsed": false
   },
   "outputs": [],
   "source": [
    "all_data = pd.concat((train.loc[:,'MSSubClass':'SaleCondition'],\n",
    "                      test.loc[:,'MSSubClass':'SaleCondition']), ignore_index=True)"
   ]
  },
  {
   "cell_type": "code",
   "execution_count": 71,
   "metadata": {
    "collapsed": false,
    "scrolled": false
   },
   "outputs": [
    {
     "data": {
      "text/html": [
       "<div>\n",
       "<table border=\"1\" class=\"dataframe\">\n",
       "  <thead>\n",
       "    <tr style=\"text-align: right;\">\n",
       "      <th></th>\n",
       "      <th>MSSubClass</th>\n",
       "      <th>MSZoning</th>\n",
       "      <th>LotFrontage</th>\n",
       "      <th>LotArea</th>\n",
       "      <th>Street</th>\n",
       "      <th>Alley</th>\n",
       "      <th>LotShape</th>\n",
       "      <th>LandContour</th>\n",
       "      <th>Utilities</th>\n",
       "      <th>LotConfig</th>\n",
       "      <th>...</th>\n",
       "      <th>ScreenPorch</th>\n",
       "      <th>PoolArea</th>\n",
       "      <th>PoolQC</th>\n",
       "      <th>Fence</th>\n",
       "      <th>MiscFeature</th>\n",
       "      <th>MiscVal</th>\n",
       "      <th>MoSold</th>\n",
       "      <th>YrSold</th>\n",
       "      <th>SaleType</th>\n",
       "      <th>SaleCondition</th>\n",
       "    </tr>\n",
       "  </thead>\n",
       "  <tbody>\n",
       "    <tr>\n",
       "      <th>0</th>\n",
       "      <td>60</td>\n",
       "      <td>RL</td>\n",
       "      <td>65.0</td>\n",
       "      <td>8450</td>\n",
       "      <td>Pave</td>\n",
       "      <td>NaN</td>\n",
       "      <td>Reg</td>\n",
       "      <td>Lvl</td>\n",
       "      <td>AllPub</td>\n",
       "      <td>Inside</td>\n",
       "      <td>...</td>\n",
       "      <td>0</td>\n",
       "      <td>0</td>\n",
       "      <td>NaN</td>\n",
       "      <td>NaN</td>\n",
       "      <td>NaN</td>\n",
       "      <td>0</td>\n",
       "      <td>2</td>\n",
       "      <td>2008</td>\n",
       "      <td>WD</td>\n",
       "      <td>Normal</td>\n",
       "    </tr>\n",
       "    <tr>\n",
       "      <th>1</th>\n",
       "      <td>20</td>\n",
       "      <td>RL</td>\n",
       "      <td>80.0</td>\n",
       "      <td>9600</td>\n",
       "      <td>Pave</td>\n",
       "      <td>NaN</td>\n",
       "      <td>Reg</td>\n",
       "      <td>Lvl</td>\n",
       "      <td>AllPub</td>\n",
       "      <td>FR2</td>\n",
       "      <td>...</td>\n",
       "      <td>0</td>\n",
       "      <td>0</td>\n",
       "      <td>NaN</td>\n",
       "      <td>NaN</td>\n",
       "      <td>NaN</td>\n",
       "      <td>0</td>\n",
       "      <td>5</td>\n",
       "      <td>2007</td>\n",
       "      <td>WD</td>\n",
       "      <td>Normal</td>\n",
       "    </tr>\n",
       "    <tr>\n",
       "      <th>2</th>\n",
       "      <td>60</td>\n",
       "      <td>RL</td>\n",
       "      <td>68.0</td>\n",
       "      <td>11250</td>\n",
       "      <td>Pave</td>\n",
       "      <td>NaN</td>\n",
       "      <td>IR1</td>\n",
       "      <td>Lvl</td>\n",
       "      <td>AllPub</td>\n",
       "      <td>Inside</td>\n",
       "      <td>...</td>\n",
       "      <td>0</td>\n",
       "      <td>0</td>\n",
       "      <td>NaN</td>\n",
       "      <td>NaN</td>\n",
       "      <td>NaN</td>\n",
       "      <td>0</td>\n",
       "      <td>9</td>\n",
       "      <td>2008</td>\n",
       "      <td>WD</td>\n",
       "      <td>Normal</td>\n",
       "    </tr>\n",
       "    <tr>\n",
       "      <th>3</th>\n",
       "      <td>70</td>\n",
       "      <td>RL</td>\n",
       "      <td>60.0</td>\n",
       "      <td>9550</td>\n",
       "      <td>Pave</td>\n",
       "      <td>NaN</td>\n",
       "      <td>IR1</td>\n",
       "      <td>Lvl</td>\n",
       "      <td>AllPub</td>\n",
       "      <td>Corner</td>\n",
       "      <td>...</td>\n",
       "      <td>0</td>\n",
       "      <td>0</td>\n",
       "      <td>NaN</td>\n",
       "      <td>NaN</td>\n",
       "      <td>NaN</td>\n",
       "      <td>0</td>\n",
       "      <td>2</td>\n",
       "      <td>2006</td>\n",
       "      <td>WD</td>\n",
       "      <td>Abnorml</td>\n",
       "    </tr>\n",
       "    <tr>\n",
       "      <th>4</th>\n",
       "      <td>60</td>\n",
       "      <td>RL</td>\n",
       "      <td>84.0</td>\n",
       "      <td>14260</td>\n",
       "      <td>Pave</td>\n",
       "      <td>NaN</td>\n",
       "      <td>IR1</td>\n",
       "      <td>Lvl</td>\n",
       "      <td>AllPub</td>\n",
       "      <td>FR2</td>\n",
       "      <td>...</td>\n",
       "      <td>0</td>\n",
       "      <td>0</td>\n",
       "      <td>NaN</td>\n",
       "      <td>NaN</td>\n",
       "      <td>NaN</td>\n",
       "      <td>0</td>\n",
       "      <td>12</td>\n",
       "      <td>2008</td>\n",
       "      <td>WD</td>\n",
       "      <td>Normal</td>\n",
       "    </tr>\n",
       "  </tbody>\n",
       "</table>\n",
       "<p>5 rows × 79 columns</p>\n",
       "</div>"
      ],
      "text/plain": [
       "   MSSubClass MSZoning  LotFrontage  LotArea Street Alley LotShape  \\\n",
       "0          60       RL         65.0     8450   Pave   NaN      Reg   \n",
       "1          20       RL         80.0     9600   Pave   NaN      Reg   \n",
       "2          60       RL         68.0    11250   Pave   NaN      IR1   \n",
       "3          70       RL         60.0     9550   Pave   NaN      IR1   \n",
       "4          60       RL         84.0    14260   Pave   NaN      IR1   \n",
       "\n",
       "  LandContour Utilities LotConfig      ...       ScreenPorch PoolArea PoolQC  \\\n",
       "0         Lvl    AllPub    Inside      ...                 0        0    NaN   \n",
       "1         Lvl    AllPub       FR2      ...                 0        0    NaN   \n",
       "2         Lvl    AllPub    Inside      ...                 0        0    NaN   \n",
       "3         Lvl    AllPub    Corner      ...                 0        0    NaN   \n",
       "4         Lvl    AllPub       FR2      ...                 0        0    NaN   \n",
       "\n",
       "  Fence MiscFeature MiscVal  MoSold  YrSold  SaleType  SaleCondition  \n",
       "0   NaN         NaN       0       2    2008        WD         Normal  \n",
       "1   NaN         NaN       0       5    2007        WD         Normal  \n",
       "2   NaN         NaN       0       9    2008        WD         Normal  \n",
       "3   NaN         NaN       0       2    2006        WD        Abnorml  \n",
       "4   NaN         NaN       0      12    2008        WD         Normal  \n",
       "\n",
       "[5 rows x 79 columns]"
      ]
     },
     "execution_count": 71,
     "metadata": {},
     "output_type": "execute_result"
    }
   ],
   "source": [
    "all_data.head()"
   ]
  },
  {
   "cell_type": "markdown",
   "metadata": {},
   "source": [
    "## Imputation of missing values ##"
   ]
  },
  {
   "cell_type": "code",
   "execution_count": 77,
   "metadata": {
    "collapsed": false
   },
   "outputs": [],
   "source": [
    "# I have no idea how to do it better. Probably, it is better to do nothing\n",
    "x = all_data.loc[np.logical_not(all_data[\"LotFrontage\"].isnull()), \"LotArea\"]\n",
    "y = all_data.loc[np.logical_not(all_data[\"LotFrontage\"].isnull()), \"LotFrontage\"]\n",
    "# plt.scatter(x, y)\n",
    "t = (x <= 25000) & (y <= 150)\n",
    "p = np.polyfit(x[t], y[t], 1)\n",
    "all_data.loc[all_data['LotFrontage'].isnull(), 'LotFrontage'] = np.polyval(p, all_data.loc[all_data['LotFrontage'].isnull(), 'LotArea'])"
   ]
  },
  {
   "cell_type": "markdown",
   "metadata": {},
   "source": [
    "There are many features were NaN should be considered as absence of such property. In other cases I replace NaN with most common value"
   ]
  },
  {
   "cell_type": "code",
   "execution_count": 78,
   "metadata": {
    "collapsed": true
   },
   "outputs": [],
   "source": [
    "all_data.loc[all_data.Alley.isnull(), 'Alley'] = 'NoAlley'\n",
    "all_data.loc[all_data.MasVnrType.isnull(), 'MasVnrType'] = 'None' # no good\n",
    "all_data.loc[all_data.MasVnrType == 'None', 'MasVnrArea'] = 0\n",
    "all_data.loc[all_data.BsmtQual.isnull(), 'BsmtQual'] = 'NoBsmt'\n",
    "all_data.loc[all_data.BsmtCond.isnull(), 'BsmtCond'] = 'NoBsmt'\n",
    "all_data.loc[all_data.BsmtExposure.isnull(), 'BsmtExposure'] = 'NoBsmt'\n",
    "all_data.loc[all_data.BsmtFinType1.isnull(), 'BsmtFinType1'] = 'NoBsmt'\n",
    "all_data.loc[all_data.BsmtFinType2.isnull(), 'BsmtFinType2'] = 'NoBsmt'\n",
    "all_data.loc[all_data.BsmtFinType1=='NoBsmt', 'BsmtFinSF1'] = 0\n",
    "all_data.loc[all_data.BsmtFinType2=='NoBsmt', 'BsmtFinSF2'] = 0\n",
    "all_data.loc[all_data.BsmtFinSF1.isnull(), 'BsmtFinSF1'] = all_data.BsmtFinSF1.median()\n",
    "all_data.loc[all_data.BsmtQual=='NoBsmt', 'BsmtUnfSF'] = 0\n",
    "all_data.loc[all_data.BsmtUnfSF.isnull(), 'BsmtUnfSF'] = all_data.BsmtUnfSF.median()\n",
    "all_data.loc[all_data.BsmtQual=='NoBsmt', 'TotalBsmtSF'] = 0\n",
    "all_data.loc[all_data.FireplaceQu.isnull(), 'FireplaceQu'] = 'NoFireplace'\n",
    "all_data.loc[all_data.GarageType.isnull(), 'GarageType'] = 'NoGarage'\n",
    "all_data.loc[all_data.GarageFinish.isnull(), 'GarageFinish'] = 'NoGarage'\n",
    "all_data.loc[all_data.GarageQual.isnull(), 'GarageQual'] = 'NoGarage'\n",
    "all_data.loc[all_data.GarageCond.isnull(), 'GarageCond'] = 'NoGarage'\n",
    "all_data.loc[all_data.BsmtFullBath.isnull(), 'BsmtFullBath'] = 0\n",
    "all_data.loc[all_data.BsmtHalfBath.isnull(), 'BsmtHalfBath'] = 0\n",
    "all_data.loc[all_data.KitchenQual.isnull(), 'KitchenQual'] = 'TA'\n",
    "all_data.loc[all_data.MSZoning.isnull(), 'MSZoning'] = 'RL'\n",
    "all_data.loc[all_data.Utilities.isnull(), 'Utilities'] = 'AllPub'\n",
    "all_data.loc[all_data.Exterior1st.isnull(), 'Exterior1st'] = 'VinylSd'\n",
    "all_data.loc[all_data.Exterior2nd.isnull(), 'Exterior2nd'] = 'VinylSd'\n",
    "all_data.loc[all_data.Functional.isnull(), 'Functional'] = 'Typ'\n",
    "all_data.loc[all_data.SaleCondition.isnull(), 'SaleCondition'] = 'Normal'\n",
    "all_data.loc[all_data.SaleCondition.isnull(), 'SaleType'] = 'WD'\n",
    "all_data.loc[all_data['PoolQC'].isnull(), 'PoolQC'] = 'NoPool'\n",
    "all_data.loc[all_data['Fence'].isnull(), 'Fence'] = 'NoFence'\n",
    "all_data.loc[all_data['MiscFeature'].isnull(), 'MiscFeature'] = 'None'\n",
    "all_data.loc[all_data['Electrical'].isnull(), 'Electrical'] = 'SBrkr'\n",
    "# only one is null and it has type Detchd\n",
    "all_data.loc[all_data['GarageArea'].isnull(), 'GarageArea'] = all_data.loc[all_data['GarageType']=='Detchd', 'GarageArea'].mean()\n",
    "all_data.loc[all_data['GarageCars'].isnull(), 'GarageCars'] = all_data.loc[all_data['GarageType']=='Detchd', 'GarageCars'].median()"
   ]
  },
  {
   "cell_type": "markdown",
   "metadata": {},
   "source": [
    "## Normalization ##"
   ]
  },
  {
   "cell_type": "code",
   "execution_count": 79,
   "metadata": {
    "collapsed": true
   },
   "outputs": [],
   "source": [
    "# where we have order we will use numeric\n",
    "all_data = all_data.replace({'Utilities': {'AllPub': 1, 'NoSeWa': 0, 'NoSewr': 0, 'ELO': 0},\n",
    "                             'Street': {'Pave': 1, 'Grvl': 0 },\n",
    "                             'FireplaceQu': {'Ex': 5, \n",
    "                                            'Gd': 4, \n",
    "                                            'TA': 3, \n",
    "                                            'Fa': 2,\n",
    "                                            'Po': 1,\n",
    "                                            'NoFireplace': 0 \n",
    "                                            },\n",
    "                             'Fence': {'GdPrv': 2, \n",
    "                                       'GdWo': 2, \n",
    "                                       'MnPrv': 1, \n",
    "                                       'MnWw': 1,\n",
    "                                       'NoFence': 0},\n",
    "                             'ExterQual': {'Ex': 5, \n",
    "                                            'Gd': 4, \n",
    "                                            'TA': 3, \n",
    "                                            'Fa': 2,\n",
    "                                            'Po': 1\n",
    "                                            },\n",
    "                             'ExterCond': {'Ex': 5, \n",
    "                                            'Gd': 4, \n",
    "                                            'TA': 3, \n",
    "                                            'Fa': 2,\n",
    "                                            'Po': 1\n",
    "                                            },\n",
    "                             'BsmtQual': {'Ex': 5, \n",
    "                                            'Gd': 4, \n",
    "                                            'TA': 3, \n",
    "                                            'Fa': 2,\n",
    "                                            'Po': 1,\n",
    "                                            'NoBsmt': 0},\n",
    "                             'BsmtExposure': {'Gd': 3, \n",
    "                                            'Av': 2, \n",
    "                                            'Mn': 1,\n",
    "                                            'No': 0,\n",
    "                                            'NoBsmt': 0},\n",
    "                             'BsmtCond': {'Ex': 5, \n",
    "                                            'Gd': 4, \n",
    "                                            'TA': 3, \n",
    "                                            'Fa': 2,\n",
    "                                            'Po': 1,\n",
    "                                            'NoBsmt': 0},\n",
    "                             'GarageQual': {'Ex': 5, \n",
    "                                            'Gd': 4, \n",
    "                                            'TA': 3, \n",
    "                                            'Fa': 2,\n",
    "                                            'Po': 1,\n",
    "                                            'NoGarage': 0},\n",
    "                             'GarageCond': {'Ex': 5, \n",
    "                                            'Gd': 4, \n",
    "                                            'TA': 3, \n",
    "                                            'Fa': 2,\n",
    "                                            'Po': 1,\n",
    "                                            'NoGarage': 0},\n",
    "                             'KitchenQual': {'Ex': 5, \n",
    "                                            'Gd': 4, \n",
    "                                            'TA': 3, \n",
    "                                            'Fa': 2,\n",
    "                                            'Po': 1},\n",
    "                             'Functional': {'Typ': 0,\n",
    "                                            'Min1': 1,\n",
    "                                            'Min2': 1,\n",
    "                                            'Mod': 2,\n",
    "                                            'Maj1': 3,\n",
    "                                            'Maj2': 4,\n",
    "                                            'Sev': 5,\n",
    "                                            'Sal': 6}                             \n",
    "                            })"
   ]
  },
  {
   "cell_type": "code",
   "execution_count": 80,
   "metadata": {
    "collapsed": true
   },
   "outputs": [],
   "source": [
    "newer_dwelling = all_data.MSSubClass.replace({20: 1, \n",
    "                                            30: 0, \n",
    "                                            40: 0, \n",
    "                                            45: 0,\n",
    "                                            50: 0, \n",
    "                                            60: 1,\n",
    "                                            70: 0,\n",
    "                                            75: 0,\n",
    "                                            80: 0,\n",
    "                                            85: 0,\n",
    "                                            90: 0,\n",
    "                                           120: 1,\n",
    "                                           150: 0,\n",
    "                                           160: 0,\n",
    "                                           180: 0,\n",
    "                                           190: 0})\n",
    "newer_dwelling.name = 'newer_dwelling'"
   ]
  },
  {
   "cell_type": "code",
   "execution_count": 81,
   "metadata": {
    "collapsed": true
   },
   "outputs": [],
   "source": [
    "all_data = all_data.replace({'MSSubClass': {20: 'SubClass_20', \n",
    "                                            30: 'SubClass_30', \n",
    "                                            40: 'SubClass_40', \n",
    "                                            45: 'SubClass_45',\n",
    "                                            50: 'SubClass_50', \n",
    "                                            60: 'SubClass_60',\n",
    "                                            70: 'SubClass_70',\n",
    "                                            75: 'SubClass_75',\n",
    "                                            80: 'SubClass_80',\n",
    "                                            85: 'SubClass_85',\n",
    "                                            90: 'SubClass_90',\n",
    "                                           120: 'SubClass_120',\n",
    "                                           150: 'SubClass_150',\n",
    "                                           160: 'SubClass_160',\n",
    "                                           180: 'SubClass_180',\n",
    "                                           190: 'SubClass_190'}})"
   ]
  },
  {
   "cell_type": "code",
   "execution_count": 82,
   "metadata": {
    "collapsed": true
   },
   "outputs": [],
   "source": [
    "# The idea is good quality should rise price, poor quality - reduce price\n",
    "overall_poor_qu = all_data.OverallQual.copy()\n",
    "overall_poor_qu = 5 - overall_poor_qu\n",
    "overall_poor_qu[overall_poor_qu<0] = 0\n",
    "overall_poor_qu.name = 'overall_poor_qu'\n",
    "\n",
    "overall_good_qu = all_data.OverallQual.copy()\n",
    "overall_good_qu = overall_good_qu - 5\n",
    "overall_good_qu[overall_good_qu<0] = 0\n",
    "overall_good_qu.name = 'overall_good_qu'\n",
    "\n",
    "overall_poor_cond = all_data.OverallCond.copy()\n",
    "overall_poor_cond = 5 - overall_poor_cond\n",
    "overall_poor_cond[overall_poor_cond<0] = 0\n",
    "overall_poor_cond.name = 'overall_poor_cond'\n",
    "\n",
    "overall_good_cond = all_data.OverallCond.copy()\n",
    "overall_good_cond = overall_good_cond - 5\n",
    "overall_good_cond[overall_good_cond<0] = 0\n",
    "overall_good_cond.name = 'overall_good_cond'\n",
    "\n",
    "exter_poor_qu = all_data.ExterQual.copy()\n",
    "exter_poor_qu[exter_poor_qu<3] = 1\n",
    "exter_poor_qu[exter_poor_qu>=3] = 0\n",
    "exter_poor_qu.name = 'exter_poor_qu'\n",
    "\n",
    "exter_good_qu = all_data.ExterQual.copy()\n",
    "exter_good_qu[exter_good_qu<=3] = 0\n",
    "exter_good_qu[exter_good_qu>3] = 1\n",
    "exter_good_qu.name = 'exter_good_qu'\n",
    "\n",
    "exter_poor_cond = all_data.ExterCond.copy()\n",
    "exter_poor_cond[exter_poor_cond<3] = 1\n",
    "exter_poor_cond[exter_poor_cond>=3] = 0\n",
    "exter_poor_cond.name = 'exter_poor_cond'\n",
    "\n",
    "exter_good_cond = all_data.ExterCond.copy()\n",
    "exter_good_cond[exter_good_cond<=3] = 0\n",
    "exter_good_cond[exter_good_cond>3] = 1\n",
    "exter_good_cond.name = 'exter_good_cond'\n",
    "\n",
    "bsmt_poor_cond = all_data.BsmtCond.copy()\n",
    "bsmt_poor_cond[bsmt_poor_cond<3] = 1\n",
    "bsmt_poor_cond[bsmt_poor_cond>=3] = 0\n",
    "bsmt_poor_cond.name = 'bsmt_poor_cond'\n",
    "\n",
    "bsmt_good_cond = all_data.BsmtCond.copy()\n",
    "bsmt_good_cond[bsmt_good_cond<=3] = 0\n",
    "bsmt_good_cond[bsmt_good_cond>3] = 1\n",
    "bsmt_good_cond.name = 'bsmt_good_cond'\n",
    "\n",
    "garage_poor_qu = all_data.GarageQual.copy()\n",
    "garage_poor_qu[garage_poor_qu<3] = 1\n",
    "garage_poor_qu[garage_poor_qu>=3] = 0\n",
    "garage_poor_qu.name = 'garage_poor_qu'\n",
    "\n",
    "garage_good_qu = all_data.GarageQual.copy()\n",
    "garage_good_qu[garage_good_qu<=3] = 0\n",
    "garage_good_qu[garage_good_qu>3] = 1\n",
    "garage_good_qu.name = 'garage_good_qu'\n",
    "\n",
    "garage_poor_cond = all_data.GarageCond.copy()\n",
    "garage_poor_cond[garage_poor_cond<3] = 1\n",
    "garage_poor_cond[garage_poor_cond>=3] = 0\n",
    "garage_poor_cond.name = 'garage_poor_cond'\n",
    "\n",
    "garage_good_cond = all_data.GarageCond.copy()\n",
    "garage_good_cond[garage_good_cond<=3] = 0\n",
    "garage_good_cond[garage_good_cond>3] = 1\n",
    "garage_good_cond.name = 'garage_good_cond'\n",
    "\n",
    "kitchen_poor_qu = all_data.KitchenQual.copy()\n",
    "kitchen_poor_qu[kitchen_poor_qu<3] = 1\n",
    "kitchen_poor_qu[kitchen_poor_qu>=3] = 0\n",
    "kitchen_poor_qu.name = 'kitchen_poor_qu'\n",
    "\n",
    "kitchen_good_qu = all_data.KitchenQual.copy()\n",
    "kitchen_good_qu[kitchen_good_qu<=3] = 0\n",
    "kitchen_good_qu[kitchen_good_qu>3] = 1\n",
    "kitchen_good_qu.name = 'kitchen_good_qu'\n",
    "\n",
    "qu_list = pd.concat((overall_poor_qu, overall_good_qu, overall_poor_cond, overall_good_cond, exter_poor_qu,\n",
    "                     exter_good_qu, exter_poor_cond, exter_good_cond, bsmt_poor_cond, bsmt_good_cond, garage_poor_qu,\n",
    "                     garage_good_qu, garage_poor_cond, garage_good_cond, kitchen_poor_qu, kitchen_good_qu), axis=1)\n",
    "\n",
    "bad_heating = all_data.HeatingQC.replace({'Ex': 0, \n",
    "                                          'Gd': 0, \n",
    "                                          'TA': 0, \n",
    "                                          'Fa': 1,\n",
    "                                          'Po': 1})\n",
    "bad_heating.name = 'bad_heating'\n",
    "                                          \n",
    "MasVnrType_Any = all_data.MasVnrType.replace({'BrkCmn': 1,\n",
    "                                              'BrkFace': 1,\n",
    "                                              'CBlock': 1,\n",
    "                                              'Stone': 1,\n",
    "                                              'None': 0})\n",
    "MasVnrType_Any.name = 'MasVnrType_Any'\n",
    "\n",
    "SaleCondition_PriceDown = all_data.SaleCondition.replace({'Abnorml': 1,\n",
    "                                                          'Alloca': 1,\n",
    "                                                          'AdjLand': 1,\n",
    "                                                          'Family': 1,\n",
    "                                                          'Normal': 0,\n",
    "                                                          'Partial': 0})\n",
    "SaleCondition_PriceDown.name = 'SaleCondition_PriceDown'\n",
    "\n",
    "Neighborhood_Good = pd.DataFrame(np.zeros((all_data.shape[0],1)), columns=['Neighborhood_Good'])\n",
    "Neighborhood_Good[all_data.Neighborhood=='NridgHt'] = 1\n",
    "Neighborhood_Good[all_data.Neighborhood=='Crawfor'] = 1\n",
    "Neighborhood_Good[all_data.Neighborhood=='StoneBr'] = 1\n",
    "Neighborhood_Good[all_data.Neighborhood=='Somerst'] = 1\n",
    "Neighborhood_Good[all_data.Neighborhood=='NoRidge'] = 1\n",
    "\n",
    "# do smth with BsmtFinType1, BsmtFinType2"
   ]
  },
  {
   "cell_type": "markdown",
   "metadata": {},
   "source": [
    "I have no idea what to do with Exterior1st, Exterior2nd, RoofMatl, Condition1, Condition2, BldgType. I'll try convert them into some kind of price brackets"
   ]
  },
  {
   "cell_type": "code",
   "execution_count": 83,
   "metadata": {
    "collapsed": true
   },
   "outputs": [],
   "source": [
    "from sklearn.svm import SVC\n",
    "svm = SVC(C=100)\n",
    "# price categories\n",
    "pc = pd.Series(np.zeros(train.shape[0]))\n",
    "pc[:] = 'pc1'\n",
    "pc[train.SalePrice >= 150000] = 'pc2'\n",
    "pc[train.SalePrice >= 220000] = 'pc3'\n",
    "columns_for_pc = ['Exterior1st', 'Exterior2nd', 'RoofMatl', 'Condition1', 'Condition2', 'BldgType']\n",
    "X_t = pd.get_dummies(train.loc[:, columns_for_pc], sparse=True)\n",
    "svm.fit(X_t, pc)\n",
    "pc_pred = svm.predict(X_t)"
   ]
  },
  {
   "cell_type": "code",
   "execution_count": 84,
   "metadata": {
    "collapsed": false
   },
   "outputs": [
    {
     "data": {
      "text/plain": [
       "(array([  13.,  125.,  183.,   94.,   40.,   16.,    3.,    3.,    1.,    2.]),\n",
       " array([ 0.379 ,  1.0961,  1.8132,  2.5303,  3.2474,  3.9645,  4.6816,\n",
       "         5.3987,  6.1158,  6.8329,  7.55  ]),\n",
       " <a list of 10 Patch objects>)"
      ]
     },
     "execution_count": 84,
     "metadata": {},
     "output_type": "execute_result"
    },
    {
     "data": {
      "image/png": "[encoded data removed]",
      "text/plain": [
       "<matplotlib.figure.Figure at 0x7faa1bf06400>"
      ]
     },
     "metadata": {},
     "output_type": "display_data"
    }
   ],
   "source": [
    "p = train.SalePrice/100000\n",
    "plt.hist(p[pc_pred=='pc1'])\n",
    "plt.hist(p[pc_pred=='pc2'])\n",
    "plt.hist(p[pc_pred=='pc3'])"
   ]
  },
  {
   "cell_type": "code",
   "execution_count": 85,
   "metadata": {
    "collapsed": true
   },
   "outputs": [],
   "source": [
    "price_category = pd.DataFrame(np.zeros((all_data.shape[0],1)), columns=['pc'])\n",
    "X_t = pd.get_dummies(all_data.loc[:, columns_for_pc], sparse=True)\n",
    "pc_pred = svm.predict(X_t)\n",
    "price_category[pc_pred=='pc2'] = 1\n",
    "price_category[pc_pred=='pc3'] = 2\n",
    "price_category = price_category.to_sparse()"
   ]
  },
  {
   "cell_type": "code",
   "execution_count": 86,
   "metadata": {
    "collapsed": true
   },
   "outputs": [],
   "source": [
    "# Monthes with the lagest number of deals may be significant\n",
    "season = all_data.MoSold.replace( {1: 0, \n",
    "                                   2: 0, \n",
    "                                   3: 0, \n",
    "                                   4: 1,\n",
    "                                   5: 1, \n",
    "                                   6: 1,\n",
    "                                   7: 1,\n",
    "                                   8: 0,\n",
    "                                   9: 0,\n",
    "                                  10: 0,\n",
    "                                  11: 0,\n",
    "                                  12: 0})\n",
    "season.name = 'season'\n",
    "\n",
    "# Numer month is not significant\n",
    "all_data = all_data.replace({'MoSold': {1: 'Yan', \n",
    "                                        2: 'Feb', \n",
    "                                        3: 'Mar', \n",
    "                                        4: 'Apr',\n",
    "                                        5: 'May', \n",
    "                                        6: 'Jun',\n",
    "                                        7: 'Jul',\n",
    "                                        8: 'Avg',\n",
    "                                        9: 'Sep',\n",
    "                                        10: 'Oct',\n",
    "                                        11: 'Nov',\n",
    "                                        12: 'Dec'}})"
   ]
  },
  {
   "cell_type": "code",
   "execution_count": 87,
   "metadata": {
    "collapsed": true
   },
   "outputs": [],
   "source": [
    "all_data = all_data.replace({'CentralAir': {'Y': 1, \n",
    "                                            'N': 0}})\n",
    "all_data = all_data.replace({'PavedDrive': {'Y': 1, \n",
    "                                            'P': 0,\n",
    "                                            'N': 0}})"
   ]
  },
  {
   "cell_type": "code",
   "execution_count": 88,
   "metadata": {
    "collapsed": true
   },
   "outputs": [],
   "source": [
    "reconstruct = pd.DataFrame(np.zeros((all_data.shape[0],1)), columns=['Reconstruct'])\n",
    "reconstruct[all_data.YrSold < all_data.YearRemodAdd] = 1\n",
    "reconstruct = reconstruct.to_sparse()\n",
    "\n",
    "recon_after_buy = pd.DataFrame(np.zeros((all_data.shape[0],1)), columns=['ReconstructAfterBuy'])\n",
    "recon_after_buy[all_data.YearRemodAdd >= all_data.YrSold] = 1\n",
    "recon_after_buy = recon_after_buy.to_sparse()\n",
    "\n",
    "build_eq_buy = pd.DataFrame(np.zeros((all_data.shape[0],1)), columns=['Build.eq.Buy'])\n",
    "build_eq_buy[all_data.YearBuilt >= all_data.YrSold] = 1\n",
    "build_eq_buy = build_eq_buy.to_sparse()"
   ]
  },
  {
   "cell_type": "code",
   "execution_count": 89,
   "metadata": {
    "collapsed": true
   },
   "outputs": [],
   "source": [
    "# I hope this will help\n",
    "all_data.YrSold = 2010 - all_data.YrSold"
   ]
  },
  {
   "cell_type": "code",
   "execution_count": 90,
   "metadata": {
    "collapsed": true
   },
   "outputs": [],
   "source": [
    "year_map = pd.concat(pd.Series('YearGroup' + str(i+1), index=range(1871+i*20,1891+i*20)) for i in range(0, 7))\n",
    "all_data.GarageYrBlt = all_data.GarageYrBlt.map(year_map)\n",
    "all_data.loc[all_data['GarageYrBlt'].isnull(), 'GarageYrBlt'] = 'NoGarage'"
   ]
  },
  {
   "cell_type": "code",
   "execution_count": 91,
   "metadata": {
    "collapsed": true
   },
   "outputs": [],
   "source": [
    "all_data.YearBuilt = all_data.YearBuilt.map(year_map)\n",
    "all_data.YearRemodAdd = all_data.YearRemodAdd.map(year_map)"
   ]
  },
  {
   "cell_type": "markdown",
   "metadata": {},
   "source": [
    "Scaling numeric data"
   ]
  },
  {
   "cell_type": "code",
   "execution_count": 92,
   "metadata": {
    "collapsed": true
   },
   "outputs": [],
   "source": [
    "numeric_feats = all_data.dtypes[all_data.dtypes != \"object\"].index\n",
    "\n",
    "t = all_data[numeric_feats].quantile(.95)\n",
    "use_max_scater = t[t == 0].index\n",
    "use_95_scater = t[t != 0].index\n",
    "all_data[use_max_scater] = all_data[use_max_scater]/all_data[use_max_scater].max()\n",
    "all_data[use_95_scater] = all_data[use_95_scater]/all_data[use_95_scater].quantile(.95)"
   ]
  },
  {
   "cell_type": "code",
   "execution_count": 93,
   "metadata": {
    "collapsed": true
   },
   "outputs": [],
   "source": [
    "t = ['LotFrontage', 'LotArea', 'MasVnrArea', 'BsmtFinSF1', 'BsmtFinSF2', 'BsmtUnfSF', 'TotalBsmtSF', \n",
    "     '1stFlrSF', '2ndFlrSF', 'LowQualFinSF', 'GrLivArea', 'GarageArea', 'WoodDeckSF', 'OpenPorchSF', \n",
    "     'EnclosedPorch', '3SsnPorch', 'ScreenPorch', 'PoolArea', 'MiscVal']\n",
    "\n",
    "all_data.loc[:, t] = np.log1p(all_data.loc[:, t])"
   ]
  },
  {
   "cell_type": "markdown",
   "metadata": {},
   "source": [
    "## Preparing for sklearn##"
   ]
  },
  {
   "cell_type": "code",
   "execution_count": 94,
   "metadata": {
    "collapsed": true
   },
   "outputs": [],
   "source": [
    "# all classes in sklearn requires numeric data only\n",
    "# transform categorical variable into binary\n",
    "X = pd.get_dummies(all_data, sparse=True)\n",
    "X = X.fillna(0)"
   ]
  },
  {
   "cell_type": "code",
   "execution_count": 95,
   "metadata": {
    "collapsed": true
   },
   "outputs": [],
   "source": [
    "X = X.drop('RoofMatl_ClyTile', axis=1) # only one is not zero\n",
    "X = X.drop('Condition2_PosN', axis=1) # only two is not zero\n",
    "X = X.drop('MSZoning_C (all)', axis=1)\n",
    "X = X.drop('MSSubClass_SubClass_160', axis=1)\n",
    "# this features definitely couse overfitting"
   ]
  },
  {
   "cell_type": "code",
   "execution_count": 96,
   "metadata": {
    "collapsed": true
   },
   "outputs": [],
   "source": [
    "# add new features\n",
    "X = pd.concat((X, newer_dwelling, season, reconstruct, recon_after_buy,\n",
    "               qu_list, bad_heating, MasVnrType_Any, price_category, build_eq_buy), axis=1)"
   ]
  },
  {
   "cell_type": "markdown",
   "metadata": {},
   "source": [
    "Next step is guess what new feachers we need to intoduse to make the model better. I'll make a lot of feachers and model wiil choose"
   ]
  },
  {
   "cell_type": "code",
   "execution_count": 97,
   "metadata": {
    "collapsed": true
   },
   "outputs": [],
   "source": [
    "from itertools import product, chain\n",
    "\n",
    "def poly(X):\n",
    "    areas = ['LotArea', 'TotalBsmtSF', 'GrLivArea', 'GarageArea', 'BsmtUnfSF']\n",
    "    # t = [s for s in X.axes[1].get_values() if s not in areas]\n",
    "    t = chain(qu_list.axes[1].get_values(), \n",
    "              ['OverallQual', 'OverallCond', 'ExterQual', 'ExterCond', 'BsmtCond', 'GarageQual', 'GarageCond',\n",
    "               'KitchenQual', 'HeatingQC', 'bad_heating', 'MasVnrType_Any', 'SaleCondition_PriceDown', 'Reconstruct',\n",
    "               'ReconstructAfterBuy', 'Build.eq.Buy'])\n",
    "    for a, t in product(areas, t):\n",
    "        x = X.loc[:, [a, t]].prod(1)\n",
    "        x.name = a + '_' + t\n",
    "        yield x\n",
    "\n",
    "XP = pd.concat(poly(X), axis=1)\n",
    "X = pd.concat((X, XP), axis=1)"
   ]
  },
  {
   "cell_type": "code",
   "execution_count": 98,
   "metadata": {
    "collapsed": true
   },
   "outputs": [],
   "source": [
    "X_train = X[:train.shape[0]]\n",
    "X_test = X[train.shape[0]:]"
   ]
  },
  {
   "cell_type": "code",
   "execution_count": 99,
   "metadata": {
    "collapsed": false
   },
   "outputs": [
    {
     "data": {
      "text/plain": [
       "(1460, 466)"
      ]
     },
     "execution_count": 99,
     "metadata": {},
     "output_type": "execute_result"
    }
   ],
   "source": [
    "# the model has become really big\n",
    "X_train.shape"
   ]
  },
  {
   "cell_type": "code",
   "execution_count": 100,
   "metadata": {
    "collapsed": true
   },
   "outputs": [],
   "source": [
    "y = np.log1p(train.SalePrice)"
   ]
  },
  {
   "cell_type": "code",
   "execution_count": 101,
   "metadata": {
    "collapsed": false
   },
   "outputs": [
    {
     "data": {
      "text/plain": [
       "<matplotlib.collections.PathCollection at 0x7faa1ac05828>"
      ]
     },
     "execution_count": 101,
     "metadata": {},
     "output_type": "execute_result"
    },
    {
     "data": {
      "image/png": "[encoded data removed]",
      "text/plain": [
       "<matplotlib.figure.Figure at 0x7faa2064f400>"
      ]
     },
     "metadata": {},
     "output_type": "display_data"
    }
   ],
   "source": [
    "# this come from iterational model improvment. I was trying to understand why the model gives to the two points much better price\n",
    "x_plot = X_train.loc[X_train['SaleCondition_Partial']==1, 'GrLivArea']\n",
    "y_plot = y[X_train['SaleCondition_Partial']==1]\n",
    "plt.scatter(x_plot, y_plot)"
   ]
  },
  {
   "cell_type": "code",
   "execution_count": 102,
   "metadata": {
    "collapsed": true
   },
   "outputs": [],
   "source": [
    "outliers_id = np.array([524, 1299])\n",
    "\n",
    "outliers_id = outliers_id - 1 # id starts with 1, index starts with 0\n",
    "X_train = X_train.drop(outliers_id)\n",
    "y = y.drop(outliers_id)\n",
    "# There are difinetly more outliers"
   ]
  },
  {
   "cell_type": "code",
   "execution_count": 111,
   "metadata": {
    "collapsed": false
   },
   "outputs": [],
   "source": [
    "from sklearn.cross_validation import cross_val_score\n",
    "from sklearn.metrics import make_scorer, mean_squared_error\n",
    "\n",
    "def rmsle(y, y_pred):\n",
    "     return np.sqrt((( (np.log1p(y_pred*price_scale)- np.log1p(y*price_scale)) )**2).mean())\n",
    "\n",
    "# scorer = make_scorer(rmsle, False)\n",
    "scorer = make_scorer(mean_squared_error, False)\n",
    "\n",
    "def rmse_cv(model, X, y):\n",
    "     return (cross_val_score(model, X, y, scoring=scorer)).mean()"
   ]
  },
  {
   "cell_type": "markdown",
   "metadata": {},
   "source": [
    "## Learning ##\n",
    "The model is sparse with n_features > n_samples. Likely it's linear.  It is classic case to use the Lasso model"
   ]
  },
  {
   "cell_type": "code",
   "execution_count": 112,
   "metadata": {
    "collapsed": false
   },
   "outputs": [
    {
     "data": {
      "text/plain": [
       "<matplotlib.axes._subplots.AxesSubplot at 0x7faa1aa17eb8>"
      ]
     },
     "execution_count": 112,
     "metadata": {},
     "output_type": "execute_result"
    },
    {
     "data": {
      "image/png": "[encoded data removed]",
      "text/plain": [
       "<matplotlib.figure.Figure at 0x7faa1ac05588>"
      ]
     },
     "metadata": {},
     "output_type": "display_data"
    }
   ],
   "source": [
    "alphas = [1e-4, 5e-4, 1e-3, 5e-3]\n",
    "cv_lasso = [rmse_cv(Lasso(alpha = alpha, max_iter=50000), X_train, y) for alpha in alphas]\n",
    "pd.Series(cv_lasso, index = alphas).plot()"
   ]
  },
  {
   "cell_type": "markdown",
   "metadata": {},
   "source": [
    "Choose alpha with better score"
   ]
  },
  {
   "cell_type": "code",
   "execution_count": 105,
   "metadata": {
    "collapsed": true
   },
   "outputs": [],
   "source": [
    "model_lasso = Lasso(alpha=5e-4, max_iter=50000).fit(X_train, y)"
   ]
  },
  {
   "cell_type": "markdown",
   "metadata": {},
   "source": [
    "## Getting results##"
   ]
  },
  {
   "cell_type": "code",
   "execution_count": 108,
   "metadata": {
    "collapsed": false
   },
   "outputs": [
    {
     "data": {
      "text/plain": [
       "<matplotlib.text.Text at 0x7faa1ac646d8>"
      ]
     },
     "execution_count": 108,
     "metadata": {},
     "output_type": "execute_result"
    },
    {
     "data": {
      "image/png": "[encoded data removed]",
      "text/plain": [
       "<matplotlib.figure.Figure at 0x7faa1abea4e0>"
      ]
     },
     "metadata": {},
     "output_type": "display_data"
    }
   ],
   "source": [
    "coef = pd.Series(model_lasso.coef_, index = X_train.columns).sort_values()\n",
    "imp_coef = pd.concat([coef.head(10), coef.tail(10)])\n",
    "imp_coef.plot(kind = \"barh\")\n",
    "plt.title(\"Coefficients in the Model\")"
   ]
  },
  {
   "cell_type": "markdown",
   "metadata": {},
   "source": [
    "Some features still look suspicious. May be, we need to exlude them like RoofMatl_ClyTile and others"
   ]
  },
  {
   "cell_type": "code",
   "execution_count": 109,
   "metadata": {
    "collapsed": false
   },
   "outputs": [
    {
     "data": {
      "text/plain": [
       "[<matplotlib.lines.Line2D at 0x7faa1ac09780>]"
      ]
     },
     "execution_count": 109,
     "metadata": {},
     "output_type": "execute_result"
    },
    {
     "data": {
      "image/png": "[encoded data removed]",
      "text/plain": [
       "<matplotlib.figure.Figure at 0x7faa1aa10668>"
      ]
     },
     "metadata": {},
     "output_type": "display_data"
    }
   ],
   "source": [
    "# This is a good way to see how model predict data\n",
    "p_pred = np.expm1(model_lasso.predict(X_train))\n",
    "plt.scatter(p_pred, np.expm1(y))\n",
    "plt.plot([min(p_pred),max(p_pred)], [min(p_pred),max(p_pred)], c=\"red\")"
   ]
  },
  {
   "cell_type": "markdown",
   "metadata": {},
   "source": [
    "Some point are far from the red line. May be they are outliers like the 524th and the 1299th"
   ]
  },
  {
   "cell_type": "code",
   "execution_count": 110,
   "metadata": {
    "collapsed": true
   },
   "outputs": [],
   "source": [
    "# save to file to make a submission\n",
    "p = np.expm1(model_lasso.predict(X_test))\n",
    "solution = pd.DataFrame({\"id\":test.Id, \"SalePrice\":p}, columns=['id', 'SalePrice'])\n",
    "solution.to_csv(\"lasso_sol.csv\", index = False)"
   ]
  },
  {
   "cell_type": "markdown",
   "metadata": {},
   "source": [
    "## Model improvement##\n",
    "With various model tunnings I've got 0.11720 in public leaderboard. Ways of improvement are find some more outliers and exlude (or include) features."
   ]
  }
 ],
 "metadata": {
  "anaconda-cloud": {},
  "kernelspec": {
   "display_name": "Python [default]",
   "language": "python",
   "name": "python3"
  },
  "language_info": {
   "codemirror_mode": {
    "name": "ipython",
    "version": 3
   },
   "file_extension": ".py",
   "mimetype": "text/x-python",
   "name": "python",
   "nbconvert_exporter": "python",
   "pygments_lexer": "ipython3",
   "version": "3.5.2"
  }
 },
 "nbformat": 4,
 "nbformat_minor": 0
}
