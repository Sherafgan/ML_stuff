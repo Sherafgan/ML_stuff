{
 "cells": [
  {
   "cell_type": "markdown",
   "metadata": {},
   "source": [
    "**Task:** K-NN optimization for digits recognition task.\n",
    "\n",
    "[Data description](http://scikit-learn.org/stable/modules/generated/sklearn.datasets.load_digits.html#sklearn.datasets.load_digits)\n",
    "\n",
    "**Deadline:** due 23:59 16.09.2016\n",
    "\n",
    "Please add your surname to the name of this ipynb file"
   ]
  },
  {
   "cell_type": "code",
   "execution_count": 1,
   "metadata": {
    "collapsed": false
   },
   "outputs": [
    {
     "name": "stdout",
     "output_type": "stream",
     "text": [
      "Populating the interactive namespace from numpy and matplotlib\n"
     ]
    }
   ],
   "source": [
    "%pylab inline"
   ]
  },
  {
   "cell_type": "code",
   "execution_count": 2,
   "metadata": {
    "collapsed": false
   },
   "outputs": [],
   "source": [
    "import sklearn as skl\n",
    "import pandas as pd\n",
    "import sklearn\n",
    "import pylab as plt\n",
    "import seaborn as sbn\n",
    "import warnings\n",
    "\n",
    "from sklearn import datasets\n",
    "from sklearn.grid_search import GridSearchCV\n",
    "from sklearn.neighbors import KNeighborsClassifier\n",
    "warnings.filterwarnings(\"ignore\")"
   ]
  },
  {
   "cell_type": "code",
   "execution_count": 3,
   "metadata": {
    "collapsed": false
   },
   "outputs": [],
   "source": [
    "pd.options.display.max_colwidth=100\n",
    "np.set_printoptions(linewidth=140,edgeitems=10)\n",
    "pd.set_option('display.max_rows', 500)\n",
    "pd.set_option('display.max_columns', 500)\n",
    "pd.set_option('display.width', 1000)\n",
    "rcParams['figure.figsize'] = (8.0, 5.0)"
   ]
  },
  {
   "cell_type": "code",
   "execution_count": 4,
   "metadata": {
    "collapsed": false
   },
   "outputs": [],
   "source": [
    "digits = datasets.load_digits() # load data"
   ]
  },
  {
   "cell_type": "code",
   "execution_count": 5,
   "metadata": {
    "collapsed": false
   },
   "outputs": [
    {
     "name": "stdout",
     "output_type": "stream",
     "text": [
      "Optical Recognition of Handwritten Digits Data Set\n",
      "===================================================\n",
      "\n",
      "Notes\n",
      "-----\n",
      "Data Set Characteristics:\n",
      "    :Number of Instances: 5620\n",
      "    :Number of Attributes: 64\n",
      "    :Attribute Information: 8x8 image of integer pixels in the range 0..16.\n",
      "    :Missing Attribute Values: None\n",
      "    :Creator: E. Alpaydin (alpaydin\n"
     ]
    }
   ],
   "source": [
    "print(digits.DESCR[:350])"
   ]
  },
  {
   "cell_type": "code",
   "execution_count": 6,
   "metadata": {
    "collapsed": false
   },
   "outputs": [
    {
     "data": {
      "text/plain": [
       "['DESCR', 'images', 'data', 'target', 'target_names']"
      ]
     },
     "execution_count": 6,
     "metadata": {},
     "output_type": "execute_result"
    }
   ],
   "source": [
    "list(digits.keys())\n",
    "# images - images, corresponding to each object\n",
    "# target_names - class names\n",
    "# target - vector of classes\n",
    "# data - design matrix (objects vs. features) features is linearized image-matrix.\n",
    "# DESCR - data description"
   ]
  },
  {
   "cell_type": "code",
   "execution_count": 7,
   "metadata": {
    "collapsed": false
   },
   "outputs": [
    {
     "data": {
      "text/plain": [
       "array([0, 1, 2, 3, 4, 5, 6, 7, 8, 9])"
      ]
     },
     "execution_count": 7,
     "metadata": {},
     "output_type": "execute_result"
    }
   ],
   "source": [
    "digits.target_names # clas2ses correspond to digits, dispayed on images"
   ]
  },
  {
   "cell_type": "code",
   "execution_count": 8,
   "metadata": {
    "collapsed": false
   },
   "outputs": [
    {
     "data": {
      "text/plain": [
       "array([0, 1, 2, 3, 4, 5, 6, 7, 8, 9, ..., 5, 4, 8, 8, 4, 9, 0, 8, 9, 8])"
      ]
     },
     "execution_count": 8,
     "metadata": {},
     "output_type": "execute_result"
    }
   ],
   "source": [
    "digits.target # vector of classes"
   ]
  },
  {
   "cell_type": "markdown",
   "metadata": {},
   "source": [
    "# Tasks:"
   ]
  },
  {
   "cell_type": "markdown",
   "metadata": {},
   "source": [
    "## 1.Visualize first 5 objects as images"
   ]
  },
  {
   "cell_type": "markdown",
   "metadata": {},
   "source": [
    "You may use function **imshow**"
   ]
  },
  {
   "cell_type": "code",
   "execution_count": 9,
   "metadata": {
    "collapsed": false
   },
   "outputs": [
    {
     "data": {
      "image/png": "[encoded data removed]",
      "text/plain": [
       "<matplotlib.figure.Figure at 0x114f9f5c0>"
      ]
     },
     "metadata": {},
     "output_type": "display_data"
    }
   ],
   "source": [
    "for i in range(5):\n",
    "    plt.subplot(3, 4, i + 1)\n",
    "    plt.imshow(digits.images[i], cmap=plt.cm.gray, vmax=16, interpolation='nearest')\n",
    "    plt.xticks(())\n",
    "    plt.yticks(())"
   ]
  },
  {
   "cell_type": "markdown",
   "metadata": {},
   "source": [
    "#### Shuffle objects and divide them into two equal parts - train and test"
   ]
  },
  {
   "cell_type": "code",
   "execution_count": 10,
   "metadata": {
    "collapsed": false
   },
   "outputs": [],
   "source": [
    "perm = numpy.random.permutation(len(digits.data))\n",
    "digits.data = digits.data[perm]\n",
    "digits.target = digits.target[perm]\n",
    "\n",
    "data_size = len(digits.data)\n",
    "x_train = digits.data[ : data_size / 2]\n",
    "y_train = digits.target[ : data_size / 2]\n",
    "x_test = digits.data[data_size / 2 : ]\n",
    "y_test = digits.target[data_size / 2 : ]"
   ]
  },
  {
   "cell_type": "markdown",
   "metadata": {},
   "source": [
    "### 3.Plot how error-rate depends on the number of nearest neighbours for K-NN method"
   ]
  },
  {
   "cell_type": "markdown",
   "metadata": {},
   "source": [
    "You should use [K-NN from scikit-learn](http://scikit-learn.org/stable/modules/generated/sklearn.neighbors.KNeighborsClassifier.html#sklearn.neighbors.KNeighborsClassifier) "
   ]
  },
  {
   "cell_type": "code",
   "execution_count": 11,
   "metadata": {
    "collapsed": false
   },
   "outputs": [],
   "source": [
    "result = dict()\n",
    "for i in range(1, 100):\n",
    "    classifier = KNeighborsClassifier(n_neighbors = i)\n",
    "    classifier.fit(x_train, y_train)\n",
    "    result[i] = 1 - classifier.score(x_test, y_test)"
   ]
  },
  {
   "cell_type": "code",
   "execution_count": 12,
   "metadata": {
    "collapsed": false
   },
   "outputs": [
    {
     "data": {
      "text/plain": [
       "<matplotlib.axes._subplots.AxesSubplot at 0x115184ef0>"
      ]
     },
     "execution_count": 12,
     "metadata": {},
     "output_type": "execute_result"
    },
    {
     "data": {
      "image/png": "[encoded data removed]",
      "text/plain": [
       "<matplotlib.figure.Figure at 0x11516dba8>"
      ]
     },
     "metadata": {},
     "output_type": "display_data"
    }
   ],
   "source": [
    "error_rate_table_n_number = pd.Series(result)\n",
    "error_rate_table_n_number.plot()"
   ]
  },
  {
   "cell_type": "markdown",
   "metadata": {},
   "source": [
    "### 3a.Which number of neighbours is optimal?"
   ]
  },
  {
   "cell_type": "code",
   "execution_count": 13,
   "metadata": {
    "collapsed": false
   },
   "outputs": [
    {
     "name": "stdout",
     "output_type": "stream",
     "text": [
      "Optimal number of neighbours:  1\n"
     ]
    }
   ],
   "source": [
    "print(\"Optimal number of neighbours: \", error_rate_table_n_number.argmin())\n",
    "optimal_n = error_rate_table_n_number.argmin()"
   ]
  },
  {
   "cell_type": "markdown",
   "metadata": {},
   "source": [
    "### 4.Plot how error-rate depends on the p parameter for Minkowski metric in K-NN?"
   ]
  },
  {
   "cell_type": "code",
   "execution_count": 14,
   "metadata": {
    "collapsed": true
   },
   "outputs": [],
   "source": [
    "result = dict()\n",
    "for i in range(1, 100):\n",
    "    classifier = KNeighborsClassifier(n_neighbors = 1, p = i)\n",
    "    classifier.fit(x_train, y_train)\n",
    "    result[i] = 1 - classifier.score(x_test, y_test)"
   ]
  },
  {
   "cell_type": "code",
   "execution_count": 15,
   "metadata": {
    "collapsed": false
   },
   "outputs": [
    {
     "data": {
      "text/plain": [
       "<matplotlib.axes._subplots.AxesSubplot at 0x11525b668>"
      ]
     },
     "execution_count": 15,
     "metadata": {},
     "output_type": "execute_result"
    },
    {
     "data": {
      "image/png": "[encoded data removed]",
      "text/plain": [
       "<matplotlib.figure.Figure at 0x1151b1630>"
      ]
     },
     "metadata": {},
     "output_type": "display_data"
    }
   ],
   "source": [
    "error_rate_table_p = pd.Series(result)\n",
    "error_rate_table_p.plot()"
   ]
  },
  {
   "cell_type": "markdown",
   "metadata": {},
   "source": [
    "### 4а.Which number p is optimal?"
   ]
  },
  {
   "cell_type": "code",
   "execution_count": 16,
   "metadata": {
    "collapsed": false
   },
   "outputs": [
    {
     "name": "stdout",
     "output_type": "stream",
     "text": [
      "Optimal p:  2\n"
     ]
    }
   ],
   "source": [
    "print(\"Optimal p: \", error_rate_table_p.argmin())\n",
    "optimal_p = error_rate_table_p.argmin()"
   ]
  },
  {
   "cell_type": "markdown",
   "metadata": {},
   "source": [
    "### 5.Find optimal pair (number of neighbours, p) for K-NN using cross-validation"
   ]
  },
  {
   "cell_type": "markdown",
   "metadata": {},
   "source": [
    "You may use **skl.grid_search.GridSearchCV**"
   ]
  },
  {
   "cell_type": "code",
   "execution_count": 17,
   "metadata": {
    "collapsed": false
   },
   "outputs": [
    {
     "data": {
      "text/plain": [
       "GridSearchCV(cv=None, error_score='raise',\n",
       "       estimator=KNeighborsClassifier(algorithm='auto', leaf_size=30, metric='minkowski',\n",
       "           metric_params=None, n_jobs=1, n_neighbors=5, p=2,\n",
       "           weights='uniform'),\n",
       "       fit_params={}, iid=True, n_jobs=-1,\n",
       "       param_grid=[{'p': array([ 1,  2,  3,  4,  5,  6,  7,  8,  9, 10, 11, 12, 13, 14, 15, 16, 17, 18, 19]), 'n_neighbors': array([ 1,  2,  3,  4,  5,  6,  7,  8,  9, 10, 11, 12, 13, 14, 15, 16, 17, 18, 19])}],\n",
       "       pre_dispatch='2*n_jobs', refit=True, scoring=None, verbose=0)"
      ]
     },
     "execution_count": 17,
     "metadata": {},
     "output_type": "execute_result"
    }
   ],
   "source": [
    "params = [{'p': np.array(range(1, 20)), 'n_neighbors': np.array(range(1, 20))}]\n",
    "clf = KNeighborsClassifier()\n",
    "grid = GridSearchCV(clf, params, n_jobs = -1)\n",
    "# Might take long time.  \n",
    "grid.fit(digits.data, digits.target)"
   ]
  },
  {
   "cell_type": "code",
   "execution_count": 24,
   "metadata": {
    "collapsed": false
   },
   "outputs": [
    {
     "name": "stdout",
     "output_type": "stream",
     "text": [
      "Grid optimal p:  4\n",
      "Grid optimal n_neighbors:  1\n",
      "Grid accuracy:  [ 0.98172757  0.97829716  0.98825503]\n",
      "Mean accuracy with p = 2, n_neighbors = 1:  0.983875662641\n"
     ]
    }
   ],
   "source": [
    "print(\"Grid optimal p: \", grid.best_estimator_.p)\n",
    "print(\"Grid optimal n_neighbors: \", grid.best_estimator_.n_neighbors)\n",
    "#print(\"Grid accuracy: \", grid.score(x_test, y_test))\n",
    "print(\"Grid score: \", skl.cross_validation.cross_val_score(grid, digits.data, digits.target, n_jobs = -1))\n",
    "clf = KNeighborsClassifier(n_neighbors = optimal_n, p = optimal_p)\n",
    "print(\"Mean score with p = {:d}, n_neighbors = {:d}: \".format(optimal_p, optimal_n), skl.cross_validation.cross_val_score(clf, digits.data, digits.target, n_jobs = -1).mean())"
   ]
  },
  {
   "cell_type": "markdown",
   "metadata": {},
   "source": [
    "Is found pair the same as a optimal number of neighbours and p found in previous task? Why?"
   ]
  },
  {
   "cell_type": "markdown",
   "metadata": {},
   "source": [
    "Actually, optimal p and n_neighbors values depend on a shuffling, and actually can vary a bit. Different values could be caused by such case: If we first iterate over possible neighbours values (with default p value), picking best one, and then iterating over p values, we just never get to the (n_neighbors = 1, p = 3) position, which gridSearch will consider.  "
   ]
  },
  {
   "cell_type": "markdown",
   "metadata": {},
   "source": [
    "### 6.Solve task 5 with object weights: \n",
    "1. uniform weights\n",
    "1. inversely proportional to distance\n",
    "2. linearly dependent from distance (see lectures, need to implement weighting function yourself)\n",
    "\n",
    "Write what (number of neighbours, p) and weights is finally optimal?"
   ]
  },
  {
   "cell_type": "code",
   "execution_count": 52,
   "metadata": {
    "collapsed": false
   },
   "outputs": [
    {
     "name": "stdout",
     "output_type": "stream",
     "text": [
      "Uniform weights accuracy:  1.0\n",
      "Inversed weights accuracy:  0.981090100111\n",
      "Linear weights accuracy:  0.981090100111\n"
     ]
    }
   ],
   "source": [
    "# 1. Uniform weights.  \n",
    "print(\"Uniform weights score: \", grid.score(x_test, y_test))\n",
    "\n",
    "# 2. Inversely proportional to distance.  \n",
    "clf_inv_weights = KNeighborsClassifier(n_neighbors = 1, p = 3, weights = 'distance')\n",
    "clf_inv_weights.fit(x_train, y_train)\n",
    "print(\"Inversed weights score: \", clf_inv_weights.score(x_test, y_test))\n",
    "\n",
    "# 3. Linearly dependent from distance.  \n",
    "class LinearlWeightCounter:\n",
    "    def __call__(self, distance_list):\n",
    "        weights = list()\n",
    "        min_d = distance_list.min()\n",
    "        max_d = distance_list.max()\n",
    "        idx = 0\n",
    "        for d in distance_list:\n",
    "            weights.append([])\n",
    "            if d.any() == min_d.any():\n",
    "                weights[idx].append(1)\n",
    "            else:\n",
    "                val = (max_d - d) / (max_d - min_d)\n",
    "                weights[idx].append(val)\n",
    "            idx += 1\n",
    "        ret = np.array(weights)\n",
    "        return ret\n",
    "\n",
    "clf_lin_weight = KNeighborsClassifier(n_neighbors = 1, p = 3, weights = LinearlWeightCounter())\n",
    "clf_lin_weight.fit(x_train, y_train)\n",
    "print(\"Linear weights score: \",  clf_lin_weight.score(x_test, y_test))"
   ]
  },
  {
   "cell_type": "markdown",
   "metadata": {},
   "source": [
    "### 8. Solve task 6 for scaled features.\n",
    "\n",
    "You need to test two scalers: statistical scaling and range scaling (see lectures)\n",
    "\n",
    "Useful functions: sklearn Scaler classes or **mean** and **std** \n",
    "(Gotcha: should you use A.std() or A.std(axis=0)?)"
   ]
  },
  {
   "cell_type": "markdown",
   "metadata": {},
   "source": [
    "### 8. Solve task 6 for scaled features.\n",
    "\n",
    "You need to test two scalers: statistical scaling and range scaling (see lectures)\n",
    "\n",
    "Useful functions: sklearn Scaler classes or **mean** and **std** \n",
    "(Gotcha: should you use A.std() or A.std(axis=0)?)"
   ]
  },
  {
   "cell_type": "code",
   "execution_count": 26,
   "metadata": {
    "collapsed": false
   },
   "outputs": [],
   "source": [
    "# Statistical scaling.  \n",
    "scaler = skl.preprocessing.StandardScaler()\n",
    "stat_scaled_x = scaler.fit_transform(digits.data)\n",
    "\n",
    "# Range scaling.  \n",
    "scaler = skl.preprocessing.MaxAbsScaler()\n",
    "range_scaled_x = scaler.fit_transform(digits.data)\n"
   ]
  },
  {
   "cell_type": "code",
   "execution_count": 27,
   "metadata": {
    "collapsed": false
   },
   "outputs": [
    {
     "name": "stdout",
     "output_type": "stream",
     "text": [
      "Classifier with statisticaly scaled features mean accuracy:  0.967717907637\n",
      "Classifier with range scaled features mean accuracy:  0.982765497675\n"
     ]
    }
   ],
   "source": [
    "stat_scaled_clf = KNeighborsClassifier(p = 3, n_neighbors = 3)\n",
    "print(\"Classifier with statisticaly scaled features mean score: \"\n",
    "      , skl.cross_validation.cross_val_score(stat_scaled_clf, stat_scaled_x, y = digits.target).mean())\n",
    "\n",
    "range_scaled_clf = KNeighborsClassifier(p = 3, n_neighbors = 3)\n",
    "print(\"Classifier with range scaled features mean score: \"\n",
    "      , skl.cross_validation.cross_val_score(range_scaled_clf, range_scaled_x, y = digits.target).mean())"
   ]
  },
  {
   "cell_type": "markdown",
   "metadata": {},
   "source": [
    "## 12.Write down which kind of normalization, K, p and weight gave optimal cross-validation accuracy and what this accuracy was"
   ]
  },
  {
   "cell_type": "code",
   "execution_count": 53,
   "metadata": {
    "collapsed": false
   },
   "outputs": [
    {
     "data": {
      "text/plain": [
       "GridSearchCV(cv=None, error_score='raise',\n",
       "       estimator=KNeighborsClassifier(algorithm='auto', leaf_size=30, metric='minkowski',\n",
       "           metric_params=None, n_jobs=1, n_neighbors=1, p=2,\n",
       "           weights='uniform'),\n",
       "       fit_params={}, iid=True, n_jobs=-1,\n",
       "       param_grid=[{'weights': ['distance', 'uniform', <__main__.LinearlWeightCounter object at 0x11dc97240>], 'p': array([ 1,  2,  3,  4,  5,  6,  7,  8,  9, 10, 11, 12, 13, 14, 15, 16, 17, 18, 19]), 'n_neighbors': array([ 1,  2,  3,  4,  5,  6,  7,  8,  9, 10, 11, 12, 13, 14, 15, 16, 17, 18, 19])}],\n",
       "       pre_dispatch='2*n_jobs', refit=True, scoring=None, verbose=0)"
      ]
     },
     "execution_count": 53,
     "metadata": {},
     "output_type": "execute_result"
    }
   ],
   "source": [
    "# Without normalization.  \n",
    "lwc = LinearlWeightCounter()\n",
    "params = [{'p': np.array(range(1, 20)), 'n_neighbors': np.array(range(1, 20))\n",
    "           , 'weights': ['distance', 'uniform', lwc]}]\n",
    "\n",
    "clf_1 = KNeighborsClassifier()\n",
    "grid_1 = GridSearchCV(clf, params, n_jobs = -1)\n",
    "grid_1.fit(digits.data, digits.target)"
   ]
  },
  {
   "cell_type": "code",
   "execution_count": 54,
   "metadata": {
    "collapsed": false
   },
   "outputs": [
    {
     "data": {
      "text/plain": [
       "GridSearchCV(cv=None, error_score='raise',\n",
       "       estimator=KNeighborsClassifier(algorithm='auto', leaf_size=30, metric='minkowski',\n",
       "           metric_params=None, n_jobs=1, n_neighbors=1, p=2,\n",
       "           weights='uniform'),\n",
       "       fit_params={}, iid=True, n_jobs=-1,\n",
       "       param_grid=[{'weights': ['distance', 'uniform', <__main__.LinearlWeightCounter object at 0x11dc97240>], 'p': array([ 1,  2,  3,  4,  5,  6,  7,  8,  9, 10, 11, 12, 13, 14, 15, 16, 17, 18, 19]), 'n_neighbors': array([ 1,  2,  3,  4,  5,  6,  7,  8,  9, 10, 11, 12, 13, 14, 15, 16, 17, 18, 19])}],\n",
       "       pre_dispatch='2*n_jobs', refit=True, scoring=None, verbose=0)"
      ]
     },
     "execution_count": 54,
     "metadata": {},
     "output_type": "execute_result"
    }
   ],
   "source": [
    "# With statisticall scaling.  \n",
    "clf_2 = KNeighborsClassifier()\n",
    "grid_2 = GridSearchCV(clf, params, n_jobs = -1)\n",
    "grid_2.fit(stat_scaled_x, digits.target)"
   ]
  },
  {
   "cell_type": "code",
   "execution_count": 55,
   "metadata": {
    "collapsed": false
   },
   "outputs": [
    {
     "data": {
      "text/plain": [
       "GridSearchCV(cv=None, error_score='raise',\n",
       "       estimator=KNeighborsClassifier(algorithm='auto', leaf_size=30, metric='minkowski',\n",
       "           metric_params=None, n_jobs=1, n_neighbors=1, p=2,\n",
       "           weights='uniform'),\n",
       "       fit_params={}, iid=True, n_jobs=-1,\n",
       "       param_grid=[{'weights': ['distance', 'uniform', <__main__.LinearlWeightCounter object at 0x11dc97240>], 'p': array([ 1,  2,  3,  4,  5,  6,  7,  8,  9, 10, 11, 12, 13, 14, 15, 16, 17, 18, 19]), 'n_neighbors': array([ 1,  2,  3,  4,  5,  6,  7,  8,  9, 10, 11, 12, 13, 14, 15, 16, 17, 18, 19])}],\n",
       "       pre_dispatch='2*n_jobs', refit=True, scoring=None, verbose=0)"
      ]
     },
     "execution_count": 55,
     "metadata": {},
     "output_type": "execute_result"
    }
   ],
   "source": [
    "# With range scaling.  \n",
    "clf_3 = KNeighborsClassifier()\n",
    "grid_3 = GridSearchCV(clf, params, n_jobs = -1)\n",
    "grid_3.fit(range_scaled_x, digits.target)"
   ]
  },
  {
   "cell_type": "code",
   "execution_count": 62,
   "metadata": {
    "collapsed": false
   },
   "outputs": [
    {
     "name": "stdout",
     "output_type": "stream",
     "text": [
      "No normalization, n_neighbors=6, weights='distance', p=2. Max score: 0.986088\n"
     ]
    }
   ],
   "source": [
    "print(\"No normalization, n_neighbors={:d}, weights=\\'{:s}\\', p={:d}. Max score: {:f}\"\n",
    "     .format(grid_1.best_estimator_.n_neighbors, grid_1.best_estimator_.weights, grid_1.best_estimator_.p, grid_1.best_score_))"
   ]
  },
  {
   "cell_type": "code",
   "execution_count": 63,
   "metadata": {
    "collapsed": false
   },
   "outputs": [
    {
     "name": "stdout",
     "output_type": "stream",
     "text": [
      "Statisticall normalization, n_neighbors=4, weights='distance', p=1. Max score: 0.979967\n"
     ]
    }
   ],
   "source": [
    "print(\"Statisticall normalization, n_neighbors={:d}, weights=\\'{:s}\\', p={:d}. Max score: {:f}\"\n",
    "     .format(grid_2.best_estimator_.n_neighbors, grid_2.best_estimator_.weights, grid_2.best_estimator_.p, grid_2.best_score_))"
   ]
  },
  {
   "cell_type": "code",
   "execution_count": 64,
   "metadata": {
    "collapsed": false
   },
   "outputs": [
    {
     "name": "stdout",
     "output_type": "stream",
     "text": [
      "Range normalization, n_neighbors=3, weights='distance', p=2. Max score: 0.985531\n"
     ]
    }
   ],
   "source": [
    "print(\"Range normalization, n_neighbors={:d}, weights=\\'{:s}\\', p={:d}. Max score: {:f}\"\n",
    "     .format(grid_3.best_estimator_.n_neighbors, grid_3.best_estimator_.weights, grid_3.best_estimator_.p, grid_3.best_score_))"
   ]
  },
  {
   "cell_type": "markdown",
   "metadata": {},
   "source": [
    "## Apply the model with best features and best parameters to X_test, Y_test\n",
    "* show accuracy\n",
    "* show confusion matrix. \n",
    "* which type of mistake is the most common?\n",
    "* visualize several objects having this type of mistake"
   ]
  },
  {
   "cell_type": "code",
   "execution_count": 101,
   "metadata": {
    "collapsed": false
   },
   "outputs": [
    {
     "name": "stdout",
     "output_type": "stream",
     "text": [
      "Accuracy:  0.983314794216\n",
      "[[ 98   0   0   0   0   0   0   0   0   0]\n",
      " [  0  93   0   0   0   0   1   0   0   0]\n",
      " [  0   0  83   0   0   0   0   0   0   0]\n",
      " [  0   0   0  84   0   0   0   1   0   0]\n",
      " [  0   0   0   0 106   0   0   0   0   3]\n",
      " [  0   0   0   0   0  86   1   0   0   0]\n",
      " [  0   0   0   0   0   0  99   0   0   0]\n",
      " [  0   0   0   0   0   0   0  77   0   0]\n",
      " [  0   5   0   1   0   1   1   0  83   0]\n",
      " [  0   0   0   1   0   0   0   0   0  75]]\n",
      "Most common mistakes: 1 instead of 8, 9 instead of 4\n",
      "[120, 128, 133, 188, 247, 452, 520, 525]\n"
     ]
    },
    {
     "data": {
      "image/png": "[encoded data removed]",
      "text/plain": [
       "<matplotlib.figure.Figure at 0x11928fa58>"
      ]
     },
     "metadata": {},
     "output_type": "display_data"
    },
    {
     "data": {
      "image/png": "[encoded data removed]",
      "text/plain": [
       "<matplotlib.figure.Figure at 0x1192b8cc0>"
      ]
     },
     "metadata": {},
     "output_type": "display_data"
    },
    {
     "data": {
      "image/png": "[encoded data removed]",
      "text/plain": [
       "<matplotlib.figure.Figure at 0x11955ab70>"
      ]
     },
     "metadata": {},
     "output_type": "display_data"
    },
    {
     "data": {
      "image/png": "[encoded data removed]",
      "text/plain": [
       "<matplotlib.figure.Figure at 0x1197942b0>"
      ]
     },
     "metadata": {},
     "output_type": "display_data"
    },
    {
     "data": {
      "image/png": "[encoded data removed]",
      "text/plain": [
       "<matplotlib.figure.Figure at 0x11986d908>"
      ]
     },
     "metadata": {},
     "output_type": "display_data"
    },
    {
     "data": {
      "image/png": "[encoded data removed]",
      "text/plain": [
       "<matplotlib.figure.Figure at 0x11a443198>"
      ]
     },
     "metadata": {},
     "output_type": "display_data"
    },
    {
     "data": {
      "image/png": "[encoded data removed]",
      "text/plain": [
       "<matplotlib.figure.Figure at 0x1198749e8>"
      ]
     },
     "metadata": {},
     "output_type": "display_data"
    },
    {
     "data": {
      "image/png": "[encoded data removed]",
      "text/plain": [
       "<matplotlib.figure.Figure at 0x119369978>"
      ]
     },
     "metadata": {},
     "output_type": "display_data"
    }
   ],
   "source": [
    "final_clf = KNeighborsClassifier(n_neighbors=6, weights='distance', p=2)\n",
    "final_clf.fit(x_train, y_train)\n",
    "y_pred = final_clf.predict(x_test)\n",
    "print(\"Accuracy: \", sklearn.metrics.accuracy_score(y_test, y_pred))\n",
    "conf_matr = sklearn.metrics.confusion_matrix(y_test, y_pred, range(10))\n",
    "print(conf_matr)\n",
    "print(\"Most common mistakes: 1 instead of 8, 9 instead of 4\")\n",
    "mistakes = list()\n",
    "for i in range(len(y_pred)):\n",
    "    if ((y_test[i] == 8 and y_pred[i] == 1) or (y_test[i] == 4 and y_pred[i] == 9)):\n",
    "        mistakes.append(i)\n",
    "\n",
    "for i in range(len(mistakes)):\n",
    "    plt.imshow(x_test[mistakes[i]].reshape((8, 8)), cmap=plt.cm.gray, vmax=16, interpolation='nearest')\n",
    "    plt.xticks(())\n",
    "    plt.yticks(())\n",
    "    plt.show()"
   ]
  },
  {
   "cell_type": "markdown",
   "metadata": {},
   "source": [
    "Useful function **skl.metrics.accuracy_score** and **skl.metrics.confusion_matrix**"
   ]
  }
 ],
 "metadata": {
  "anaconda-cloud": {},
  "kernelspec": {
   "display_name": "Python [Root]",
   "language": "python",
   "name": "Python [Root]"
  },
  "language_info": {
   "codemirror_mode": {
    "name": "ipython",
    "version": 3
   },
   "file_extension": ".py",
   "mimetype": "text/x-python",
   "name": "python",
   "nbconvert_exporter": "python",
   "pygments_lexer": "ipython3",
   "version": "3.5.2"
  }
 },
 "nbformat": 4,
 "nbformat_minor": 0
}
